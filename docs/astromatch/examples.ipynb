{
 "cells": [
  {
   "cell_type": "markdown",
   "metadata": {},
   "source": [
    "Astromatch\n",
    "==========\n",
    "\n",
    "Astromatch is a python module for statistical cross-matching of astronomical catalogues. It implements different matching methods and provides a consistent output format (as far as possible) for all of them. This allows easy comparisons between different methods.\n",
    "\n",
    "Astromatch is design as a coherent framework, well integrated with other tools in the Astropy package. When using Astromatch, you should keep in mind that it is more a library that allows you to write your own python scripts for cross-matching astronomical catalogues, than a simple stand-alone software."
   ]
  },
  {
   "cell_type": "markdown",
   "metadata": {},
   "source": [
    "Catalogue objects\n",
    "---------------------------\n",
    "\n",
    "Astromatch provides a useful tool for defining an astronomical catalogue. The basic information needed for building a ``Catalogue`` object is the position of the sources, the positional errors, their ID labels and the area covered by the catalogue. Having a reasonable estimation of the catalogue area is crucial when using statistical cross-matching methods."
   ]
  },
  {
   "cell_type": "markdown",
   "metadata": {},
   "source": [
    "As en example, lets build an Astromatch Catalogue for X-ray sources in a sky region of 1 deg radius within the XXL-North survey. \n",
    "\n",
    "Lets firs retrieve the data we need from the Vizier database (we will use only the data from the 0.5-2 keV band):"
   ]
  },
  {
   "cell_type": "code",
   "execution_count": 1,
   "metadata": {},
   "outputs": [],
   "source": [
    "from astropy import units as u\n",
    "from astropy.coordinates import SkyCoord\n",
    "from astropy.table import Table\n",
    "\n",
    "\n",
    "region_center = SkyCoord(ra=35.30109, dec=-4.45962, unit='deg')\n",
    "search_radius = 1*u.deg\n",
    "\n",
    "try:\n",
    "    xcat_table = Table.read('xxl_1deg.fits')\n",
    "\n",
    "except FileNotFoundError:\n",
    "    from astroquery.vizier import Vizier\n",
    "\n",
    "    v = Vizier(\n",
    "        columns=['Xseq', 'RABdeg', 'DEBdeg', 'e_Bpos'],\n",
    "        column_filters={'e_Bpos':'>0', 'Bp1': '==1'},\n",
    "        row_limit=-1,\n",
    "    )\n",
    "    result = v.query_region(region_center, radius=search_radius, catalog='IX/52/3xlss')\n",
    "    xcat_table = result[0]\n",
    "    xcat_table.meta['description'] = ''\n",
    "    xcat_table.write('xxl_1deg.fits', format='fits', overwrite=True)"
   ]
  },
  {
   "cell_type": "markdown",
   "metadata": {},
   "source": [
    "We use the output of the Vizier query for building the corresponding Astromatch catalogue:"
   ]
  },
  {
   "cell_type": "code",
   "execution_count": 2,
   "metadata": {},
   "outputs": [
    {
     "data": {
      "text/plain": [
       "SRCID_xxl    RA      DEC    e_Bpos\n",
       "            deg      deg    arcsec\n",
       "--------- -------- -------- ------\n",
       "   225328 34.31101  -4.6003    0.8\n",
       "   225285  34.3179 -4.50244    1.8\n",
       "   214851  34.3196 -4.28354    1.8\n",
       "   225342  34.3372 -4.63358    1.7\n",
       "   215403 34.33934 -4.18971    1.8\n",
       "   225338 34.34105 -4.61523    1.7\n",
       "   214878 34.34372 -4.37113    0.8\n",
       "   225341 34.34508 -4.62884    1.7\n",
       "   225368 34.34713 -4.69338    1.3\n",
       "   214858 34.34764 -4.31242    1.0\n",
       "      ...      ...      ...    ...\n",
       "   217268 36.26386 -4.19097    1.8\n",
       "   217929 36.26876 -4.61878    1.5\n",
       "   217307 36.27068   -4.308    1.9\n",
       "   217889 36.27654  -4.4801    0.8\n",
       "   217928 36.27669  -4.6049    1.0\n",
       "   217919 36.28076 -4.56787    1.3\n",
       "   217296 36.28341 -4.27467    1.5\n",
       "   217927 36.29433 -4.59714    1.0\n",
       "   217894   36.294 -4.49086    1.7\n",
       "   217882 36.29906 -4.46167    1.7\n",
       "Length = 1238 rows"
      ]
     },
     "execution_count": 2,
     "metadata": {},
     "output_type": "execute_result"
    }
   ],
   "source": [
    "import numpy as np\n",
    "from astromatch import Catalogue\n",
    "\n",
    "xcat = Catalogue(\n",
    "    xcat_table,\n",
    "    name='xxl',\n",
    "    id_col='Xseq',\n",
    "    coord_cols=['RABdeg', 'DEBdeg'],\n",
    "    poserr_cols=['e_Bpos'],\n",
    "    poserr_type='circle',\n",
    "    area=np.pi * search_radius**2,\n",
    ")\n",
    "xcat"
   ]
  },
  {
   "cell_type": "markdown",
   "metadata": {},
   "source": [
    "Astropy units for coordinates and positional errors of the Catalogue are always defined. If the initial data have no units defined for those columns, Astromatch asigns by default degrees to the coordinates and arcsec for the positional errors. By default it assumes that coordinates are in the ICRS reference frame (equatorial system). Other frames can be used by setting the `frame` parameter while defining the Catalogue (see the Astropy SkyCoord documentation for all suported frames). Internally all coordinates frames are transformed into ICRS."
   ]
  },
  {
   "cell_type": "markdown",
   "metadata": {},
   "source": [
    "Instead of passing an Astropy Table for the definition of the catalogue, a path to a file (in a tabular format suported by Astropy) can be used:"
   ]
  },
  {
   "cell_type": "code",
   "execution_count": 3,
   "metadata": {},
   "outputs": [],
   "source": [
    "xcat = Catalogue(\n",
    "    'xxl_1deg.fits',\n",
    "    name='xxl',\n",
    "    id_col='Xseq',\n",
    "    coord_cols=['RABdeg', 'DEBdeg'],\n",
    "    poserr_cols=['e_Bpos'],\n",
    "    poserr_type='circle',\n",
    "    area=np.pi * search_radius**2,\n",
    ")"
   ]
  },
  {
   "cell_type": "markdown",
   "metadata": {},
   "source": [
    "The area of the Catalogue can be set using a MOC object (or the path to a file containing the MOC). The ``mocpy`` package have multiple tools for defining MOCs. For example, for the circular sky region we queried, we can define the following MOC:"
   ]
  },
  {
   "cell_type": "code",
   "execution_count": 4,
   "metadata": {},
   "outputs": [],
   "source": [
    "from mocpy import MOC\n",
    "\n",
    "moc_xxl = MOC.from_elliptical_cone(\n",
    "    lon=region_center.ra,\n",
    "    lat=region_center.dec,\n",
    "    a=search_radius,\n",
    "    b=search_radius,\n",
    "    pa=0*u.deg,\n",
    "    max_depth=14\n",
    ")"
   ]
  },
  {
   "cell_type": "markdown",
   "metadata": {},
   "source": [
    "Now we can use the MOC for the Catalogue definition:"
   ]
  },
  {
   "cell_type": "code",
   "execution_count": 5,
   "metadata": {},
   "outputs": [
    {
     "data": {
      "text/latex": [
       "$3.1595047 \\; \\mathrm{{}^{\\circ}^{2}}$"
      ],
      "text/plain": [
       "<Quantity 3.15950474 deg2>"
      ]
     },
     "execution_count": 5,
     "metadata": {},
     "output_type": "execute_result"
    }
   ],
   "source": [
    "xcat = Catalogue(\n",
    "    'xxl_1deg.fits',\n",
    "    name='xxl',\n",
    "    id_col='Xseq',\n",
    "    coord_cols=['RABdeg', 'DEBdeg'],\n",
    "    poserr_cols=['e_Bpos'],\n",
    "    poserr_type='circle',\n",
    "    area=moc_xxl,\n",
    ")\n",
    "xcat.area"
   ]
  },
  {
   "cell_type": "markdown",
   "metadata": {},
   "source": [
    "We strongly recomend using MOCs for defining the areas covered by Catalogues. When cross-matching catalogues with partial common coverage, Astromatch can use the corresponding MOCs to cross-match only the sources in the common area."
   ]
  },
  {
   "cell_type": "markdown",
   "metadata": {},
   "source": [
    "Catalogues can be access by index and sliced as Python lists:"
   ]
  },
  {
   "cell_type": "code",
   "execution_count": 6,
   "metadata": {},
   "outputs": [
    {
     "data": {
      "text/plain": [
       "SRCID_xxl    RA      DEC    e_Bpos\n",
       "            deg      deg    arcsec\n",
       "--------- -------- -------- ------\n",
       "   225336 34.35209 -4.61097    2.0\n",
       "   225330 34.38474  -4.5968    2.0\n",
       "   225412 34.40112 -4.79919    1.9"
      ]
     },
     "execution_count": 6,
     "metadata": {},
     "output_type": "execute_result"
    }
   ],
   "source": [
    "xcat[10]\n",
    "xcat[10:20]\n",
    "xcat[[10, 20, 30]]"
   ]
  },
  {
   "cell_type": "markdown",
   "metadata": {},
   "source": [
    "It is also possible to select sources by their ids:"
   ]
  },
  {
   "cell_type": "code",
   "execution_count": 7,
   "metadata": {},
   "outputs": [
    {
     "data": {
      "text/plain": [
       "SRCID_xxl    RA      DEC    e_Bpos\n",
       "            deg      deg    arcsec\n",
       "--------- -------- -------- ------\n",
       "   225336 34.35209 -4.61097    2.0\n",
       "   225330 34.38474  -4.5968    2.0\n",
       "   225412 34.40112 -4.79919    1.9"
      ]
     },
     "execution_count": 7,
     "metadata": {},
     "output_type": "execute_result"
    }
   ],
   "source": [
    "list_of_ids = ['225336', '225330', '225412']\n",
    "xcat_new = xcat.select_by_id(list_of_ids)\n",
    "xcat_new"
   ]
  },
  {
   "cell_type": "markdown",
   "metadata": {},
   "source": [
    "Sources can also be removed by id from a Catalogue:"
   ]
  },
  {
   "cell_type": "code",
   "execution_count": 8,
   "metadata": {},
   "outputs": [
    {
     "data": {
      "text/plain": [
       "SRCID_xxl    RA      DEC    e_Bpos\n",
       "            deg      deg    arcsec\n",
       "--------- -------- -------- ------\n",
       "   225328 34.31101  -4.6003    0.8\n",
       "   225285  34.3179 -4.50244    1.8\n",
       "   214851  34.3196 -4.28354    1.8\n",
       "   225342  34.3372 -4.63358    1.7\n",
       "   215403 34.33934 -4.18971    1.8\n",
       "   225338 34.34105 -4.61523    1.7\n",
       "   214878 34.34372 -4.37113    0.8\n",
       "   225341 34.34508 -4.62884    1.7\n",
       "   225368 34.34713 -4.69338    1.3\n",
       "   214858 34.34764 -4.31242    1.0\n",
       "      ...      ...      ...    ...\n",
       "   217268 36.26386 -4.19097    1.8\n",
       "   217929 36.26876 -4.61878    1.5\n",
       "   217307 36.27068   -4.308    1.9\n",
       "   217889 36.27654  -4.4801    0.8\n",
       "   217928 36.27669  -4.6049    1.0\n",
       "   217919 36.28076 -4.56787    1.3\n",
       "   217296 36.28341 -4.27467    1.5\n",
       "   217927 36.29433 -4.59714    1.0\n",
       "   217894   36.294 -4.49086    1.7\n",
       "   217882 36.29906 -4.46167    1.7\n",
       "Length = 1235 rows"
      ]
     },
     "execution_count": 8,
     "metadata": {},
     "output_type": "execute_result"
    }
   ],
   "source": [
    "list_of_ids = ['225336', '225330', '225412']\n",
    "xcat_new = xcat.remove_by_id(list_of_ids)\n",
    "xcat_new"
   ]
  },
  {
   "cell_type": "markdown",
   "metadata": {},
   "source": [
    "Two Catalogue objects can be joined in a single Catalogue:"
   ]
  },
  {
   "cell_type": "code",
   "execution_count": 9,
   "metadata": {},
   "outputs": [
    {
     "data": {
      "text/plain": [
       "SRCID_xxl    RA      DEC    e_Bpos\n",
       "            deg      deg    arcsec\n",
       "--------- -------- -------- ------\n",
       "   214851  34.3196 -4.28354    1.8\n",
       "   214857 34.36319 -4.31538    1.5\n",
       "   225285  34.3179 -4.50244    1.8\n",
       "   225289 34.35908 -4.51431    1.8\n",
       "   225336 34.35209 -4.61097    2.0\n",
       "   225342  34.3372 -4.63358    1.7\n",
       "   226800 34.35493  -4.1663    1.6"
      ]
     },
     "execution_count": 9,
     "metadata": {},
     "output_type": "execute_result"
    }
   ],
   "source": [
    "cat1 = xcat[1:4]\n",
    "cat2 = xcat[10:14]\n",
    "\n",
    "cat1.join(cat2)"
   ]
  },
  {
   "cell_type": "markdown",
   "metadata": {},
   "source": [
    "The different atributes of the Catalogue can be access independently:"
   ]
  },
  {
   "cell_type": "code",
   "execution_count": 10,
   "metadata": {},
   "outputs": [
    {
     "data": {
      "text/plain": [
       "<SkyCoordErr (circle): (e_Bpos) in arcsec\n",
       "    [(0.8,) (1.8,) (1.8,) ... (1. ,) (1.7,) (1.7,)]>"
      ]
     },
     "execution_count": 10,
     "metadata": {},
     "output_type": "execute_result"
    }
   ],
   "source": [
    "# IDs\n",
    "xcat.ids\n",
    "\n",
    "# Area\n",
    "xcat.area\n",
    "\n",
    "# Coordinates\n",
    "xcat.coords\n",
    "\n",
    "# Positional errors\n",
    "xcat.poserr"
   ]
  },
  {
   "cell_type": "markdown",
   "metadata": {},
   "source": [
    "The positional errors are defined as SkyCoordErr objects. This class allows to manipulate the errors in several ways. For example, adding a systematic error:"
   ]
  },
  {
   "cell_type": "code",
   "execution_count": 11,
   "metadata": {},
   "outputs": [
    {
     "name": "stdout",
     "output_type": "stream",
     "text": [
      "SRCID_xxl    RA      DEC      e_Bpos \n",
      "            deg      deg      arcsec \n",
      "--------- -------- -------- ---------\n",
      "   225328 34.31101  -4.6003       1.7\n",
      "   225285  34.3179 -4.50244 2.3430748\n",
      "   214851  34.3196 -4.28354 2.3430748\n",
      "   225342  34.3372 -4.63358 2.2671568\n",
      "   215403 34.33934 -4.18971 2.3430748\n",
      "   225338 34.34105 -4.61523 2.2671568\n",
      "   214878 34.34372 -4.37113       1.7\n",
      "   225341 34.34508 -4.62884 2.2671568\n",
      "   225368 34.34713 -4.69338 1.9849433\n",
      "   214858 34.34764 -4.31242 1.8027756\n",
      "      ...      ...      ...       ...\n",
      "   217268 36.26386 -4.19097 2.3430748\n",
      "   217929 36.26876 -4.61878 2.1213202\n",
      "   217307 36.27068   -4.308 2.4207437\n",
      "   217889 36.27654  -4.4801       1.7\n",
      "   217928 36.27669  -4.6049 1.8027756\n",
      "   217919 36.28076 -4.56787 1.9849433\n",
      "   217296 36.28341 -4.27467 2.1213202\n",
      "   217927 36.29433 -4.59714 1.8027756\n",
      "   217894   36.294 -4.49086 2.2671568\n",
      "   217882 36.29906 -4.46167 2.2671568\n",
      "Length = 1238 rows\n"
     ]
    }
   ],
   "source": [
    "# Save the original positional errors\n",
    "old_poserr = xcat.poserr[:]\n",
    "\n",
    "# Add systematic error to the catalogue\n",
    "xcat.poserr.add_syserr(1.5*u.arcsec)\n",
    "print(xcat)\n",
    "\n",
    "# Recover original errors\n",
    "xcat.poserr = old_poserr"
   ]
  },
  {
   "cell_type": "markdown",
   "metadata": {},
   "source": [
    "Cross-matching: Match\n",
    "----------------------------------\n",
    "\n",
    "The ``Match`` class is the basic tool for cross-matching Catalogues. It can use several matching algorithms, and implements different methods to calculate the statistical properties (completeness, error rate, etc) of the results.\n",
    "\n",
    "As an example, we will cross-match the catalogue of X-ray sources we defined above with a catalogue of optical sources from the SDSS. First, we download the data we need, if it is not already available. We will use the optical magnitudes during the cross-match, so we need to download that too:"
   ]
  },
  {
   "cell_type": "code",
   "execution_count": 12,
   "metadata": {},
   "outputs": [],
   "source": [
    "sdss_mags = ['umag', 'gmag', 'rmag', 'imag', 'zmag']\n",
    "\n",
    "try:\n",
    "    ocat_table = Table.read('sdss_1deg.fits')\n",
    "\n",
    "except FileNotFoundError:\n",
    "    from astroquery.vizier import Vizier\n",
    "\n",
    "    sdss_cols = ['objID', 'RA_ICRS', 'DE_ICRS', 'e_RA_ICRS', 'e_DE_ICRS'] + sdss_mags\n",
    "\n",
    "    v = Vizier(columns=sdss_cols,\n",
    "               column_filters={'mode': '=1', 'q_mode': '=+', 'e_RA_ICRS': '>0', 'e_DE_ICRS': '>0'},\n",
    "               row_limit=-1,\n",
    "    )\n",
    "    result = v.query_region(region_center, radius=1*u.deg, catalog='V/147/sdss12')\n",
    "    ocat_table = result[0]\n",
    "    ocat_table.meta['description'] = ''\n",
    "    ocat_table.write('sdss_1deg.fits', format='fits', overwrite=True)"
   ]
  },
  {
   "cell_type": "markdown",
   "metadata": {},
   "source": [
    "Now we can define a new Catalogue. Since the optical sources are from the exact same sky region as the X-ray sources, we can use the MOC we defined above to set the area of the Catalogue. Note also that here we are using a different type for the positional errors:"
   ]
  },
  {
   "cell_type": "code",
   "execution_count": 13,
   "metadata": {},
   "outputs": [],
   "source": [
    "ocat = Catalogue(\n",
    "    ocat_table,\n",
    "    name='sdss',\n",
    "    id_col='objID',\n",
    "    coord_cols=['RA_ICRS', 'DE_ICRS'],\n",
    "    poserr_cols=['e_RA_ICRS', 'e_DE_ICRS'],\n",
    "    poserr_type='rcd_dec_ellipse',\n",
    "    area=moc_xxl,\n",
    "    mag_cols=sdss_mags,\n",
    ")"
   ]
  },
  {
   "cell_type": "markdown",
   "metadata": {},
   "source": [
    "We define a match between `xcat` and `ocat`:"
   ]
  },
  {
   "cell_type": "code",
   "execution_count": 14,
   "metadata": {},
   "outputs": [
    {
     "name": "stdout",
     "output_type": "stream",
     "text": [
      "INFO: Selecting sources in common area... [astromatch.core]\n",
      "INFO: xxl catalogue: 1238 sources in common area. [astromatch.core]\n",
      "INFO: sdss catalogue: 43559 sources in common area. [astromatch.core]\n"
     ]
    }
   ],
   "source": [
    "from astromatch import Match\n",
    "\n",
    "xm = Match(xcat, ocat)"
   ]
  },
  {
   "cell_type": "markdown",
   "metadata": {},
   "source": [
    "We calculate the cross-match using the likelihood ratio method:"
   ]
  },
  {
   "cell_type": "code",
   "execution_count": 15,
   "metadata": {},
   "outputs": [
    {
     "name": "stdout",
     "output_type": "stream",
     "text": [
      "INFO: Using LR method: [astromatch.core]\n"
     ]
    },
    {
     "name": "stderr",
     "output_type": "stream",
     "text": [
      "WARNING: Converting non-circular to circular errors! New errors will preserve the area. [astromatch.catalogues]\n"
     ]
    },
    {
     "name": "stdout",
     "output_type": "stream",
     "text": [
      "INFO: Searching for match candidates within 10.0 arcsec... [astromatch.lr]\n",
      "INFO: Calculating priors... [astromatch.lr]\n",
      "INFO: Calculating likelihood ratios for match candidates... [astromatch.lr]\n",
      "INFO: Sorting and flagging match results... [astromatch.lr]\n"
     ]
    }
   ],
   "source": [
    "match_results_lr = xm.run(method='lr', radius=10.0*u.arcsec)"
   ]
  },
  {
   "cell_type": "markdown",
   "metadata": {},
   "source": [
    "By default all cross-matching methods included in astromatch try to estimate magnitude priors using the information provided within the catalogues."
   ]
  },
  {
   "cell_type": "code",
   "execution_count": 16,
   "metadata": {
    "scrolled": true
   },
   "outputs": [
    {
     "data": {
      "image/png": "[encoded data removed]",
      "text/plain": [
       "<Figure size 432x288 with 1 Axes>"
      ]
     },
     "metadata": {
      "needs_background": "light"
     },
     "output_type": "display_data"
    },
    {
     "name": "stdout",
     "output_type": "stream",
     "text": [
      "Overal identification rate in r band: 0.5372520757119248\n"
     ]
    }
   ],
   "source": [
    "xm.priors.plot('rmag')\n",
    "print(\"Overal identification rate in r band:\", xm.priors.qcap('rmag'))\n"
   ]
  },
  {
   "cell_type": "markdown",
   "metadata": {},
   "source": [
    "Priors can be stored into files for later use:"
   ]
  },
  {
   "cell_type": "code",
   "execution_count": 17,
   "metadata": {},
   "outputs": [],
   "source": [
    "prior_table = xm.priors.to_table(include_bkg_priors=True)\n",
    "prior_table.write(\"lrpriors.fits\", format=\"fits\", overwrite=True)\n"
   ]
  },
  {
   "cell_type": "markdown",
   "metadata": {},
   "source": [
    "Full output of the LR algorithm:"
   ]
  },
  {
   "cell_type": "code",
   "execution_count": 18,
   "metadata": {},
   "outputs": [
    {
     "data": {
      "text/html": [
       "<i>Table masked=True length=1073</i>\n",
       "<table id=\"table140275846770928\" class=\"table-striped table-bordered table-condensed\">\n",
       "<thead><tr><th>SRCID_xxl</th><th>SRCID_sdss</th><th>Separation_xxl_sdss</th><th>ncat</th><th>PEF</th><th>LR_umag</th><th>LR_gmag</th><th>LR_rmag</th><th>LR_imag</th><th>LR_zmag</th><th>REL_umag</th><th>p_any_umag</th><th>p_i_umag</th><th>REL_gmag</th><th>p_any_gmag</th><th>p_i_gmag</th><th>REL_rmag</th><th>p_any_rmag</th><th>p_i_rmag</th><th>REL_imag</th><th>p_any_imag</th><th>p_i_imag</th><th>REL_zmag</th><th>p_any_zmag</th><th>p_i_zmag</th><th>LR_BEST</th><th>REL_BEST</th><th>LR_BEST_MAG</th><th>prob_has_match</th><th>prob_this_match</th></tr></thead>\n",
       "<thead><tr><th></th><th></th><th>arcsec</th><th></th><th>1 / arcsec2</th><th>1 / arcsec2</th><th>1 / arcsec2</th><th>1 / arcsec2</th><th>1 / arcsec2</th><th>1 / arcsec2</th><th>1 / arcsec2</th><th>1 / arcsec2</th><th>1 / arcsec2</th><th>1 / arcsec2</th><th>1 / arcsec2</th><th>1 / arcsec2</th><th>1 / arcsec2</th><th>1 / arcsec2</th><th>1 / arcsec2</th><th>1 / arcsec2</th><th>1 / arcsec2</th><th>1 / arcsec2</th><th>1 / arcsec2</th><th>1 / arcsec2</th><th>1 / arcsec2</th><th></th><th></th><th></th><th></th><th></th></tr></thead>\n",
       "<thead><tr><th>str11</th><th>str21</th><th>float64</th><th>int64</th><th>float64</th><th>float64</th><th>float64</th><th>float64</th><th>float64</th><th>float64</th><th>float64</th><th>float64</th><th>float64</th><th>float64</th><th>float64</th><th>float64</th><th>float64</th><th>float64</th><th>float64</th><th>float64</th><th>float64</th><th>float64</th><th>float64</th><th>float64</th><th>float64</th><th>float64</th><th>float64</th><th>bytes4</th><th>float64</th><th>float64</th></tr></thead>\n",
       "<tr><td>208384</td><td>1237679323935408452</td><td>3.509611010899394</td><td>2</td><td>0.004619385231110828</td><td>0.8669482368313249</td><td>0.7930754709181884</td><td>1.3241171904976579</td><td>2.0836333124184256</td><td>2.1293080900184926</td><td>0.6526740440150837</td><td>0.6526740440150837</td><td>1.0</td><td>0.6323817684365662</td><td>0.6323817684365662</td><td>1.0</td><td>0.7410280605631699</td><td>0.7410280605631699</td><td>1.0</td><td>0.8186305068318085</td><td>0.8186305068318085</td><td>1.0</td><td>0.8215263242258252</td><td>0.8215263242258252</td><td>1.0</td><td>2.1293080900184926</td><td>0.8215263242258252</td><td>zmag</td><td>0.8215263242258252</td><td>1.0</td></tr>\n",
       "<tr><td>208385</td><td>1237679323935408430</td><td>8.155210562432602</td><td>2</td><td>6.272762025102117e-16</td><td>9.268595580204889e-14</td><td>1.0769341477543978e-13</td><td>2.2953785003909097e-13</td><td>3.4166839746002675e-13</td><td>3.7186180804764717e-13</td><td>8.97375886318289e-16</td><td>0.9955332203576902</td><td>9.014022515450225e-16</td><td>1.088424622623435e-15</td><td>0.9953404773349619</td><td>1.0935199033979883e-15</td><td>4.09629664268608e-15</td><td>0.9917418727745845</td><td>4.130406061434029e-15</td><td>5.7408370093521434e-15</td><td>0.9922434604233619</td><td>5.785714129980451e-15</td><td>6.6272297222069254e-15</td><td>0.9917559306450593</td><td>6.6823192253525855e-15</td><td>9.268595580204889e-14</td><td>8.97375886318289e-16</td><td>umag</td><td>0.9955332203576902</td><td>9.014022515450225e-16</td></tr>\n",
       "<tr><td>208385</td><td>1237679323935408431</td><td>0.8754558926456739</td><td>2</td><td>0.10841811184318062</td><td>102.82418929402883</td><td>98.48326888598748</td><td>55.57270794145704</td><td>59.053798599187935</td><td>55.64861463271138</td><td>0.9955332197226897</td><td>0.9955332203576902</td><td>0.9999999993621503</td><td>0.9953404764392241</td><td>0.9953404773349619</td><td>0.999999999100069</td><td>0.991741871446458</td><td>0.9917418727745845</td><td>0.9999999986608143</td><td>0.9922434590419181</td><td>0.9922434604233619</td><td>0.9999999986077572</td><td>0.9917559289828702</td><td>0.9917559306450593</td><td>0.9999999983239939</td><td>102.82418929402883</td><td>0.9955332197226897</td><td>umag</td><td>0.9955332203576902</td><td>0.9999999993621503</td></tr>\n",
       "<tr><td>208385</td><td>1237679323935408432</td><td>6.406524871937158</td><td>2</td><td>2.0337872155800483e-10</td><td>6.558627448215433e-08</td><td>8.862804455372004e-08</td><td>7.442194411856932e-08</td><td>8.221687678095136e-08</td><td>9.326704779357321e-08</td><td>6.349995604451304e-10</td><td>0.9955332203576902</td><td>6.378486899884447e-10</td><td>8.957367184277939e-10</td><td>0.9953404773349619</td><td>8.999299624849393e-10</td><td>1.328122398040885e-09</td><td>0.9917418727745845</td><td>1.3391815294893346e-09</td><td>1.381437945464801e-09</td><td>0.9922434604233619</td><td>1.3922368859708896e-09</td><td>1.6621823964263197e-09</td><td>0.9917559306450593</td><td>1.675999452148676e-09</td><td>6.558627448215433e-08</td><td>6.349995604451304e-10</td><td>umag</td><td>0.9955332203576902</td><td>6.378486899884447e-10</td></tr>\n",
       "<tr><td>208388</td><td>1237679323935408818</td><td>9.863831019638171</td><td>2</td><td>3.408446236748559e-11</td><td>4.191828662875637e-09</td><td>5.85176375008382e-09</td><td>9.770092835233246e-09</td><td>1.4741371299080617e-08</td><td>1.571125113667245e-08</td><td>9.085931395580932e-09</td><td>9.085931395580932e-09</td><td>1.0</td><td>1.2692715924020705e-08</td><td>1.2692715924020705e-08</td><td>1.0</td><td>2.111320681553844e-08</td><td>2.111320681553844e-08</td><td>1.0</td><td>3.193303997274996e-08</td><td>3.193303997274996e-08</td><td>1.0</td><td>3.3964057511031045e-08</td><td>3.3964057511031045e-08</td><td>1.0</td><td>1.571125113667245e-08</td><td>3.3964057511031045e-08</td><td>zmag</td><td>3.3964057511031045e-08</td><td>1.0</td></tr>\n",
       "<tr><td>208389</td><td>1237679323935408611</td><td>3.8288362182024844</td><td>2</td><td>0.0001085887897345933</td><td>0.06298065867968117</td><td>0.07550349544926019</td><td>0.055660193624893946</td><td>0.0591467644113891</td><td>0.06437359415648211</td><td>0.12011543830213398</td><td>0.12011543830213398</td><td>1.0</td><td>0.14072381901463585</td><td>0.1407238190176644</td><td>0.9999999999784788</td><td>0.10736751933751881</td><td>0.10736751934015086</td><td>0.9999999999754856</td><td>0.11357329285867894</td><td>0.11357329286190856</td><td>0.9999999999715635</td><td>0.1221607189155304</td><td>0.12216071891877542</td><td>0.9999999999734365</td><td>0.07550349544926019</td><td>0.14072381901463585</td><td>gmag</td><td>0.1407238190176644</td><td>0.9999999999784788</td></tr>\n",
       "<tr><td>208389</td><td>1237679323935408620</td><td>7.964810803039035</td><td>2</td><td>3.728805296268797e-15</td><td>0.0</td><td>1.6249326350279188e-12</td><td>1.3644738115279952e-12</td><td>1.6819257416553659e-12</td><td>1.7099854847934197e-12</td><td>0.0</td><td>0.12011543830213398</td><td>0.0</td><td>3.0285581439909972e-12</td><td>0.1407238190176644</td><td>2.1521290177683684e-11</td><td>2.632045611125004e-12</td><td>0.10736751934015086</td><td>2.451435617867285e-11</td><td>3.2296245910417563e-12</td><td>0.11357329286190856</td><td>2.8436479295960807e-11</td><td>3.245011543859112e-12</td><td>0.12216071891877542</td><td>2.6563461418532728e-11</td><td>1.6249326350279188e-12</td><td>3.0285581439909972e-12</td><td>gmag</td><td>0.1407238190176644</td><td>2.1521290177683684e-11</td></tr>\n",
       "<tr><td>208390</td><td>1237679323935408628</td><td>1.9930080259933138</td><td>2</td><td>0.02215064302411411</td><td>7.143216075932624</td><td>3.8029154895283765</td><td>6.349339953566397</td><td>9.580049989092558</td><td>10.11167866725801</td><td>0.9393320360735277</td><td>0.9393320370825131</td><td>0.9999999989258479</td><td>0.8918764616679434</td><td>0.8918764624432234</td><td>0.9999999991307317</td><td>0.932069584281817</td><td>0.9320695901349252</td><td>0.9999999937203099</td><td>0.9540282467978796</td><td>0.9540282469764343</td><td>0.9999999998128413</td><td>0.9562537252433235</td><td>0.9562537260424758</td><td>0.9999999991642884</td><td>10.11167866725801</td><td>0.9562537252433235</td><td>zmag</td><td>0.9562537260424758</td><td>0.9999999991642884</td></tr>\n",
       "<tr><td>208390</td><td>1237679323935408629</td><td>6.841110673091843</td><td>2</td><td>2.0401606442224984e-11</td><td>7.672900414482895e-09</td><td>3.3057541746085332e-09</td><td>3.987188787287272e-08</td><td>1.7929897531897521e-09</td><td>8.450446648117018e-09</td><td>1.0089854614939152e-09</td><td>0.9393320370825131</td><td>1.0741520800543967e-09</td><td>7.75280004121136e-10</td><td>0.8918764624432234</td><td>8.692683760229742e-10</td><td>5.853108232663647e-09</td><td>0.9320695901349252</td><td>6.279690158989479e-09</td><td>1.7855469154229436e-10</td><td>0.9540282469764343</td><td>1.8715870531945046e-10</td><td>7.991522825381794e-10</td><td>0.9562537260424758</td><td>8.357115489060922e-10</td><td>8.450446648117018e-09</td><td>7.991522825381794e-10</td><td>zmag</td><td>0.9562537260424758</td><td>8.357115489060922e-10</td></tr>\n",
       "<tr><td>...</td><td>...</td><td>...</td><td>...</td><td>...</td><td>...</td><td>...</td><td>...</td><td>...</td><td>...</td><td>...</td><td>...</td><td>...</td><td>...</td><td>...</td><td>...</td><td>...</td><td>...</td><td>...</td><td>...</td><td>...</td><td>...</td><td>...</td><td>...</td><td>...</td><td>...</td><td>...</td><td>...</td><td>...</td><td>...</td></tr>\n",
       "<tr><td>226736</td><td>1237679254134653533</td><td>1.0187393486991054</td><td>2</td><td>0.05602972893656763</td><td>21.07238621616447</td><td>9.619419346652176</td><td>16.060562943349225</td><td>24.232596927469608</td><td>25.69456316056838</td><td>0.978575306686804</td><td>0.9785753073296763</td><td>0.9999999993430528</td><td>0.9542646293411488</td><td>0.9542646309875057</td><td>0.9999999982747375</td><td>0.9719942365130855</td><td>0.9719942372535165</td><td>0.9999999992382351</td><td>0.9813060052271774</td><td>0.9813060057536459</td><td>0.9999999994635022</td><td>0.9823151730868467</td><td>0.9823151735552113</td><td>0.9999999995232034</td><td>25.69456316056838</td><td>0.9823151730868467</td><td>zmag</td><td>0.9823151735552113</td><td>0.9999999995232034</td></tr>\n",
       "<tr><td>226737</td><td>1237679254134653363</td><td>9.379439075877661</td><td>2</td><td>6.38431756310969e-08</td><td>3.702854837296444e-05</td><td>4.43911653542742e-05</td><td>3.272458902931223e-05</td><td>2.8797288136877238e-05</td><td>2.942854591304048e-05</td><td>1.976999573761282e-06</td><td>0.9753677573214503</td><td>2.0269273398892205e-06</td><td>3.315110557406064e-06</td><td>0.9655702643025863</td><td>3.4333188168346378e-06</td><td>1.6125835552681888e-06</td><td>0.9771969728245317</td><td>1.6502134166534601e-06</td><td>1.3413039266878221e-06</td><td>0.978498279567965</td><td>1.3707780122822967e-06</td><td>1.660100551562285e-06</td><td>0.973905031414166</td><td>1.7045815536569554e-06</td><td>2.8797288136877238e-05</td><td>1.3413039266878221e-06</td><td>imag</td><td>0.978498279567965</td><td>1.3707780122822967e-06</td></tr>\n",
       "<tr><td>226737</td><td>1237679254134653369</td><td>0.2226224247674486</td><td>2</td><td>0.048573839090382</td><td>18.26827858605486</td><td>12.929475913389647</td><td>19.830486588286185</td><td>21.00795927871753</td><td>17.26435187952668</td><td>0.9753657803218766</td><td>0.9753677573214503</td><td>0.9999979730726601</td><td>0.9655669491920289</td><td>0.9655702643025863</td><td>0.9999965666811832</td><td>0.9771953602409764</td><td>0.9771969728245317</td><td>0.9999983497865834</td><td>0.9784969382640383</td><td>0.978498279567965</td><td>0.9999986292219877</td><td>0.9739033713136144</td><td>0.973905031414166</td><td>0.9999982954184463</td><td>21.00795927871753</td><td>0.9784969382640383</td><td>imag</td><td>0.978498279567965</td><td>0.9999986292219877</td></tr>\n",
       "<tr><td>226738</td><td>1237679254134652976</td><td>1.7228066823565693</td><td>2</td><td>0.03103560503960579</td><td>11.672272350046768</td><td>13.524644884825603</td><td>11.356793111145512</td><td>13.99901010551426</td><td>14.167627777793507</td><td>0.9619772558407714</td><td>0.9619772558407714</td><td>1.0</td><td>0.9670353332005088</td><td>0.9670353332005088</td><td>1.0</td><td>0.9608489092003817</td><td>0.9608489092003817</td><td>1.0</td><td>0.9680765386176919</td><td>0.9680765386176919</td><td>1.0</td><td>0.9683815513785325</td><td>0.9683815513785325</td><td>1.0</td><td>14.167627777793507</td><td>0.9683815513785325</td><td>zmag</td><td>0.9683815513785325</td><td>1.0</td></tr>\n",
       "<tr><td>226754</td><td>1237679254134784231</td><td>7.03533235037819</td><td>2</td><td>3.944358973930431e-06</td><td>0.003740846495884942</td><td>0.004496560482485254</td><td>0.0021882711931258546</td><td>0.0020517648612295995</td><td>0.0019498331800261906</td><td>0.0001939787258942601</td><td>0.9760768545533397</td><td>0.0001987330454455108</td><td>0.0003841256223602685</td><td>0.9606155254152781</td><td>0.0003998744681897676</td><td>0.00032143809918596734</td><td>0.9320263349201544</td><td>0.00034488091928593903</td><td>0.0002848162980492983</td><td>0.9359181772740933</td><td>0.00030431751937849894</td><td>0.0003160952715241188</td><td>0.9250085534290747</td><td>0.00034172145798255636</td><td>0.003740846495884942</td><td>0.0001939787258942601</td><td>umag</td><td>0.9760768545533397</td><td>0.0001987330454455108</td></tr>\n",
       "<tr><td>226754</td><td>1237679254134784232</td><td>2.8754669632535967</td><td>2</td><td>0.012374351552196785</td><td>18.819734069308282</td><td>11.240433636839668</td><td>6.342816832761524</td><td>6.740132731844297</td><td>5.703963958530773</td><td>0.9758828758274455</td><td>0.9760768545533397</td><td>0.9998012669545545</td><td>0.9602313997929178</td><td>0.9606155254152781</td><td>0.9996001255318103</td><td>0.9317048968209685</td><td>0.9320263349201544</td><td>0.9996551190807141</td><td>0.935633360976044</td><td>0.9359181772740933</td><td>0.9996956824806215</td><td>0.9246924581575506</td><td>0.9250085534290747</td><td>0.9996582785420175</td><td>18.819734069308282</td><td>0.9758828758274455</td><td>umag</td><td>0.9760768545533397</td><td>0.9998012669545545</td></tr>\n",
       "<tr><td>226755</td><td>1237679254134784231</td><td>5.492235330560495</td><td>2</td><td>0.0001719364881277792</td><td>0.1630652821861822</td><td>0.1960072151450947</td><td>0.09538778455611246</td><td>0.08943740847001815</td><td>0.08499415789092324</td><td>0.26109639778932475</td><td>0.2612909162386394</td><td>0.9992555483668747</td><td>0.29828540495988726</td><td>0.2983958257763793</td><td>0.9996299518728027</td><td>0.17089174918473513</td><td>0.170965102280205</td><td>0.9995709469681733</td><td>0.16228455611582596</td><td>0.16236350288779797</td><td>0.9995137652824196</td><td>0.15520770110084348</td><td>0.15527493819041116</td><td>0.999566980413251</td><td>0.1960072151450947</td><td>0.29828540495988726</td><td>gmag</td><td>0.2983958257763793</td><td>0.9996299518728027</td></tr>\n",
       "<tr><td>226755</td><td>1237679254134784232</td><td>8.33794108234263</td><td>2</td><td>7.98785904526488e-08</td><td>0.00012148465507941402</td><td>7.255895318635078e-05</td><td>4.0943985304052524e-05</td><td>4.350872850286076e-05</td><td>3.6820078941369924e-05</td><td>0.0001945184493146599</td><td>0.2612909162386394</td><td>0.0007444516331252955</td><td>0.00011042081649205958</td><td>0.2983958257763793</td><td>0.00037004812719736233</td><td>7.335309546986702e-05</td><td>0.170965102280205</td><td>0.0004290530318266018</td><td>7.894677197201788e-05</td><td>0.16236350288779797</td><td>0.00048623471758043067</td><td>6.723708956768074e-05</td><td>0.15527493819041116</td><td>0.00043301958674895095</td><td>7.255895318635078e-05</td><td>0.00011042081649205958</td><td>gmag</td><td>0.2983958257763793</td><td>0.00037004812719736233</td></tr>\n",
       "<tr><td>226800</td><td>1237679323397947782</td><td>5.821647381203046</td><td>2</td><td>8.76008876927189e-05</td><td>0.08308104711756838</td><td>0.03817457066255285</td><td>0.03205560699104509</td><td>0.03951351070802157</td><td>0.04017271874170003</td><td>0.14473819058784965</td><td>0.1962606279466744</td><td>0.7374795041783734</td><td>0.07321151019306209</td><td>0.11582664584247343</td><td>0.6320783068572253</td><td>0.06065096532629603</td><td>0.12445556502324419</td><td>0.48733027980684057</td><td>0.07421624447990408</td><td>0.13293638289094892</td><td>0.5582839164563815</td><td>0.07509112042267466</td><td>0.13533366876387612</td><td>0.5548591204875274</td><td>0.08308104711756838</td><td>0.14473819058784965</td><td>umag</td><td>0.1962606279466744</td><td>0.7374795041783734</td></tr>\n",
       "<tr><td>226800</td><td>1237679323397947788</td><td>6.039430083188515</td><td>2</td><td>5.099093984251449e-05</td><td>0.029574350960414893</td><td>0.02222074784214592</td><td>0.0337223844847785</td><td>0.03126322052727409</td><td>0.03222893648639146</td><td>0.05152243735882476</td><td>0.1962606279466744</td><td>0.2625204958216267</td><td>0.04261513564941135</td><td>0.11582664584247343</td><td>0.3679216931427747</td><td>0.06380459969694816</td><td>0.12445556502324419</td><td>0.5126697201931594</td><td>0.05872013841104485</td><td>0.13293638289094892</td><td>0.4417160835436185</td><td>0.06024254834120147</td><td>0.13533366876387612</td><td>0.4451408795124727</td><td>0.029574350960414893</td><td>0.05152243735882476</td><td>umag</td><td>0.1962606279466744</td><td>0.2625204958216267</td></tr>\n",
       "</table>"
      ],
      "text/plain": [
       "<Table masked=True length=1073>\n",
       "SRCID_xxl      SRCID_sdss     ...     prob_has_match        prob_this_match    \n",
       "                              ...                                              \n",
       "  str11          str21        ...        float64                float64        \n",
       "--------- ------------------- ... ---------------------- ----------------------\n",
       "   208384 1237679323935408452 ...     0.8215263242258252                    1.0\n",
       "   208385 1237679323935408430 ...     0.9955332203576902  9.014022515450225e-16\n",
       "   208385 1237679323935408431 ...     0.9955332203576902     0.9999999993621503\n",
       "   208385 1237679323935408432 ...     0.9955332203576902  6.378486899884447e-10\n",
       "   208388 1237679323935408818 ... 3.3964057511031045e-08                    1.0\n",
       "   208389 1237679323935408611 ...     0.1407238190176644     0.9999999999784788\n",
       "   208389 1237679323935408620 ...     0.1407238190176644 2.1521290177683684e-11\n",
       "   208390 1237679323935408628 ...     0.9562537260424758     0.9999999991642884\n",
       "   208390 1237679323935408629 ...     0.9562537260424758  8.357115489060922e-10\n",
       "      ...                 ... ...                    ...                    ...\n",
       "   226736 1237679254134653533 ...     0.9823151735552113     0.9999999995232034\n",
       "   226737 1237679254134653363 ...      0.978498279567965 1.3707780122822967e-06\n",
       "   226737 1237679254134653369 ...      0.978498279567965     0.9999986292219877\n",
       "   226738 1237679254134652976 ...     0.9683815513785325                    1.0\n",
       "   226754 1237679254134784231 ...     0.9760768545533397  0.0001987330454455108\n",
       "   226754 1237679254134784232 ...     0.9760768545533397     0.9998012669545545\n",
       "   226755 1237679254134784231 ...     0.2983958257763793     0.9996299518728027\n",
       "   226755 1237679254134784232 ...     0.2983958257763793 0.00037004812719736233\n",
       "   226800 1237679323397947782 ...     0.1962606279466744     0.7374795041783734\n",
       "   226800 1237679323397947788 ...     0.1962606279466744     0.2625204958216267"
      ]
     },
     "execution_count": 18,
     "metadata": {},
     "output_type": "execute_result"
    }
   ],
   "source": [
    "xm.lr"
   ]
  },
  {
   "cell_type": "markdown",
   "metadata": {},
   "source": [
    "All matches within the search radius (10 arcsec):"
   ]
  },
  {
   "cell_type": "code",
   "execution_count": 19,
   "metadata": {},
   "outputs": [
    {
     "data": {
      "text/html": [
       "<i>Table masked=True length=1073</i>\n",
       "<table id=\"table140275846928928\" class=\"table-striped table-bordered table-condensed\">\n",
       "<thead><tr><th>SRCID_xxl</th><th>SRCID_sdss</th><th>Separation_xxl_sdss</th><th>ncat</th><th>LR_BEST</th><th>REL_BEST</th><th>LR_BEST_MAG</th><th>match_flag</th><th>prob_has_match</th><th>prob_this_match</th></tr></thead>\n",
       "<thead><tr><th></th><th></th><th>arcsec</th><th></th><th></th><th></th><th></th><th></th><th></th><th></th></tr></thead>\n",
       "<thead><tr><th>str11</th><th>str21</th><th>float64</th><th>int64</th><th>float64</th><th>float64</th><th>bytes4</th><th>int64</th><th>float64</th><th>float64</th></tr></thead>\n",
       "<tr><td>225328</td><td>1237679322861011512</td><td>1.3714570888758941</td><td>2</td><td>51.98613717986995</td><td>0.9912095692647905</td><td>gmag</td><td>1</td><td>0.9912095692647905</td><td>1.0</td></tr>\n",
       "<tr><td>214851</td><td>1237679323397882147</td><td>1.3144638565450806</td><td>2</td><td>57.215360047213956</td><td>0.9920010393988656</td><td>umag</td><td>1</td><td>0.9920010393988656</td><td>1.0</td></tr>\n",
       "<tr><td>225342</td><td>1237679322861011562</td><td>7.170840526164801</td><td>2</td><td>0.0036687630482993413</td><td>0.007868603616921918</td><td>zmag</td><td>1</td><td>0.007868603616921918</td><td>1.0</td></tr>\n",
       "<tr><td>215403</td><td>1237679323397948127</td><td>2.427267359409059</td><td>2</td><td>9.118917440205458</td><td>0.9517210750328098</td><td>zmag</td><td>1</td><td>0.9517210750328098</td><td>1.0</td></tr>\n",
       "<tr><td>214878</td><td>1237679254134587627</td><td>1.9889052193363361</td><td>2</td><td>10.74320684128775</td><td>0.9588244664187242</td><td>umag</td><td>1</td><td>0.9588244664187242</td><td>1.0</td></tr>\n",
       "<tr><td>225341</td><td>1237679322861076661</td><td>1.5086594463281928</td><td>2</td><td>56.46094779885835</td><td>0.9918950262250092</td><td>umag</td><td>1</td><td>0.9918950262250092</td><td>1.0</td></tr>\n",
       "<tr><td>214858</td><td>1237679323397948131</td><td>5.848338687360705</td><td>2</td><td>3.288471209547722e-06</td><td>7.108856835470631e-06</td><td>zmag</td><td>1</td><td>7.109341694974711e-06</td><td>0.9999317996623481</td></tr>\n",
       "<tr><td>214858</td><td>1237679323397947748</td><td>7.292553467416126</td><td>2</td><td>2.2429014351325455e-10</td><td>4.848595040800675e-10</td><td>zmag</td><td>0</td><td>7.109341694974711e-06</td><td>6.820033765190861e-05</td></tr>\n",
       "<tr><td>226800</td><td>1237679323397947782</td><td>5.821647381203046</td><td>2</td><td>0.08308104711756838</td><td>0.14473819058784965</td><td>umag</td><td>1</td><td>0.1962606279466744</td><td>0.7374795041783734</td></tr>\n",
       "<tr><td>...</td><td>...</td><td>...</td><td>...</td><td>...</td><td>...</td><td>...</td><td>...</td><td>...</td><td>...</td></tr>\n",
       "<tr><td>217909</td><td>1237679322861863347</td><td>8.785452432742025</td><td>2</td><td>2.350639458443253e-06</td><td>1.1735871424665399e-07</td><td>gmag</td><td>0</td><td>0.9769823204613822</td><td>1.2012368267957097e-07</td></tr>\n",
       "<tr><td>217303</td><td>1237679254135373933</td><td>4.439494436789353</td><td>2</td><td>0.6352481934217745</td><td>0.5794572328136611</td><td>gmag</td><td>1</td><td>0.5794572328136611</td><td>1.0</td></tr>\n",
       "<tr><td>217313</td><td>1237679254135374545</td><td>1.0820380078272642</td><td>2</td><td>28.584195601708448</td><td>0.9841161977833232</td><td>umag</td><td>1</td><td>0.9841161977833232</td><td>1.0</td></tr>\n",
       "<tr><td>218676</td><td>1237679322861863376</td><td>0.5475653416462244</td><td>2</td><td>30.2609807093983</td><td>0.9849436543563709</td><td>zmag</td><td>1</td><td>0.9849436543563709</td><td>1.0</td></tr>\n",
       "<tr><td>217294</td><td>1237679323398734463</td><td>1.558445586040676</td><td>2</td><td>23.446866205208874</td><td>0.9807162808211469</td><td>gmag</td><td>1</td><td>0.9807162808211469</td><td>1.0</td></tr>\n",
       "<tr><td>217307</td><td>1237679254135374572</td><td>1.751286873484423</td><td>2</td><td>13.256947304867177</td><td>0.9662827695903778</td><td>zmag</td><td>1</td><td>0.9662827695903778</td><td>1.0</td></tr>\n",
       "<tr><td>217928</td><td>1237679322861863452</td><td>3.669063421348808</td><td>2</td><td>0.10347669102855665</td><td>0.18280120756774645</td><td>zmag</td><td>1</td><td>0.18280120756774645</td><td>1.0</td></tr>\n",
       "<tr><td>217919</td><td>1237679322861863461</td><td>0.338877570253551</td><td>2</td><td>46.58700616712138</td><td>0.9901681478784427</td><td>zmag</td><td>1</td><td>0.9901681478784427</td><td>1.0</td></tr>\n",
       "<tr><td>217894</td><td>1237679254135374463</td><td>8.446828836341155</td><td>2</td><td>0.00026373070734237575</td><td>0.0005713187040694621</td><td>umag</td><td>1</td><td>0.0005713187040694621</td><td>1.0</td></tr>\n",
       "<tr><td>217882</td><td>1237679254135439695</td><td>0.8786664462688236</td><td>2</td><td>22.1845395727159</td><td>0.9795742446116733</td><td>zmag</td><td>1</td><td>0.9795742446116733</td><td>1.0</td></tr>\n",
       "</table>"
      ],
      "text/plain": [
       "<Table masked=True length=1073>\n",
       "SRCID_xxl      SRCID_sdss     ...     prob_has_match       prob_this_match    \n",
       "                              ...                                             \n",
       "  str11          str21        ...        float64               float64        \n",
       "--------- ------------------- ... --------------------- ----------------------\n",
       "   225328 1237679322861011512 ...    0.9912095692647905                    1.0\n",
       "   214851 1237679323397882147 ...    0.9920010393988656                    1.0\n",
       "   225342 1237679322861011562 ...  0.007868603616921918                    1.0\n",
       "   215403 1237679323397948127 ...    0.9517210750328098                    1.0\n",
       "   214878 1237679254134587627 ...    0.9588244664187242                    1.0\n",
       "   225341 1237679322861076661 ...    0.9918950262250092                    1.0\n",
       "   214858 1237679323397948131 ... 7.109341694974711e-06     0.9999317996623481\n",
       "   214858 1237679323397947748 ... 7.109341694974711e-06  6.820033765190861e-05\n",
       "   226800 1237679323397947782 ...    0.1962606279466744     0.7374795041783734\n",
       "      ...                 ... ...                   ...                    ...\n",
       "   217909 1237679322861863347 ...    0.9769823204613822 1.2012368267957097e-07\n",
       "   217303 1237679254135373933 ...    0.5794572328136611                    1.0\n",
       "   217313 1237679254135374545 ...    0.9841161977833232                    1.0\n",
       "   218676 1237679322861863376 ...    0.9849436543563709                    1.0\n",
       "   217294 1237679323398734463 ...    0.9807162808211469                    1.0\n",
       "   217307 1237679254135374572 ...    0.9662827695903778                    1.0\n",
       "   217928 1237679322861863452 ...   0.18280120756774645                    1.0\n",
       "   217919 1237679322861863461 ...    0.9901681478784427                    1.0\n",
       "   217894 1237679254135374463 ... 0.0005713187040694621                    1.0\n",
       "   217882 1237679254135439695 ...    0.9795742446116733                    1.0"
      ]
     },
     "execution_count": 19,
     "metadata": {},
     "output_type": "execute_result"
    }
   ],
   "source": [
    "all_matches = xm.get_matchs()\n",
    "all_matches"
   ]
  },
  {
   "cell_type": "markdown",
   "metadata": {},
   "source": [
    "List of most likely counterparts:"
   ]
  },
  {
   "cell_type": "code",
   "execution_count": 20,
   "metadata": {},
   "outputs": [
    {
     "data": {
      "text/html": [
       "<i>Table masked=True length=844</i>\n",
       "<table id=\"table140275852184768\" class=\"table-striped table-bordered table-condensed\">\n",
       "<thead><tr><th>SRCID_xxl</th><th>SRCID_sdss</th><th>Separation_xxl_sdss</th><th>ncat</th><th>LR_BEST</th><th>REL_BEST</th><th>LR_BEST_MAG</th><th>match_flag</th><th>prob_has_match</th><th>prob_this_match</th></tr></thead>\n",
       "<thead><tr><th></th><th></th><th>arcsec</th><th></th><th></th><th></th><th></th><th></th><th></th><th></th></tr></thead>\n",
       "<thead><tr><th>str11</th><th>str21</th><th>float64</th><th>int64</th><th>float64</th><th>float64</th><th>bytes4</th><th>int64</th><th>float64</th><th>float64</th></tr></thead>\n",
       "<tr><td>225328</td><td>1237679322861011512</td><td>1.3714570888758941</td><td>2</td><td>51.98613717986995</td><td>0.9912095692647905</td><td>gmag</td><td>1</td><td>0.9912095692647905</td><td>1.0</td></tr>\n",
       "<tr><td>214851</td><td>1237679323397882147</td><td>1.3144638565450806</td><td>2</td><td>57.215360047213956</td><td>0.9920010393988656</td><td>umag</td><td>1</td><td>0.9920010393988656</td><td>1.0</td></tr>\n",
       "<tr><td>225342</td><td>1237679322861011562</td><td>7.170840526164801</td><td>2</td><td>0.0036687630482993413</td><td>0.007868603616921918</td><td>zmag</td><td>1</td><td>0.007868603616921918</td><td>1.0</td></tr>\n",
       "<tr><td>215403</td><td>1237679323397948127</td><td>2.427267359409059</td><td>2</td><td>9.118917440205458</td><td>0.9517210750328098</td><td>zmag</td><td>1</td><td>0.9517210750328098</td><td>1.0</td></tr>\n",
       "<tr><td>214878</td><td>1237679254134587627</td><td>1.9889052193363361</td><td>2</td><td>10.74320684128775</td><td>0.9588244664187242</td><td>umag</td><td>1</td><td>0.9588244664187242</td><td>1.0</td></tr>\n",
       "<tr><td>225341</td><td>1237679322861076661</td><td>1.5086594463281928</td><td>2</td><td>56.46094779885835</td><td>0.9918950262250092</td><td>umag</td><td>1</td><td>0.9918950262250092</td><td>1.0</td></tr>\n",
       "<tr><td>214858</td><td>1237679323397948131</td><td>5.848338687360705</td><td>2</td><td>3.288471209547722e-06</td><td>7.108856835470631e-06</td><td>zmag</td><td>1</td><td>7.109341694974711e-06</td><td>0.9999317996623481</td></tr>\n",
       "<tr><td>226800</td><td>1237679323397947782</td><td>5.821647381203046</td><td>2</td><td>0.08308104711756838</td><td>0.14473819058784965</td><td>umag</td><td>1</td><td>0.1962606279466744</td><td>0.7374795041783734</td></tr>\n",
       "<tr><td>214857</td><td>1237679323397947789</td><td>1.7711934173395705</td><td>2</td><td>16.137469190271627</td><td>0.9721335391949676</td><td>zmag</td><td>1</td><td>0.9721335472413575</td><td>0.9999999917229583</td></tr>\n",
       "<tr><td>...</td><td>...</td><td>...</td><td>...</td><td>...</td><td>...</td><td>...</td><td>...</td><td>...</td><td>...</td></tr>\n",
       "<tr><td>217909</td><td>1237679322861863352</td><td>2.03633789927016</td><td>2</td><td>19.56849077251567</td><td>0.976982203102668</td><td>gmag</td><td>1</td><td>0.9769823204613822</td><td>0.9999998798763173</td></tr>\n",
       "<tr><td>217303</td><td>1237679254135373933</td><td>4.439494436789353</td><td>2</td><td>0.6352481934217745</td><td>0.5794572328136611</td><td>gmag</td><td>1</td><td>0.5794572328136611</td><td>1.0</td></tr>\n",
       "<tr><td>217313</td><td>1237679254135374545</td><td>1.0820380078272642</td><td>2</td><td>28.584195601708448</td><td>0.9841161977833232</td><td>umag</td><td>1</td><td>0.9841161977833232</td><td>1.0</td></tr>\n",
       "<tr><td>218676</td><td>1237679322861863376</td><td>0.5475653416462244</td><td>2</td><td>30.2609807093983</td><td>0.9849436543563709</td><td>zmag</td><td>1</td><td>0.9849436543563709</td><td>1.0</td></tr>\n",
       "<tr><td>217294</td><td>1237679323398734463</td><td>1.558445586040676</td><td>2</td><td>23.446866205208874</td><td>0.9807162808211469</td><td>gmag</td><td>1</td><td>0.9807162808211469</td><td>1.0</td></tr>\n",
       "<tr><td>217307</td><td>1237679254135374572</td><td>1.751286873484423</td><td>2</td><td>13.256947304867177</td><td>0.9662827695903778</td><td>zmag</td><td>1</td><td>0.9662827695903778</td><td>1.0</td></tr>\n",
       "<tr><td>217928</td><td>1237679322861863452</td><td>3.669063421348808</td><td>2</td><td>0.10347669102855665</td><td>0.18280120756774645</td><td>zmag</td><td>1</td><td>0.18280120756774645</td><td>1.0</td></tr>\n",
       "<tr><td>217919</td><td>1237679322861863461</td><td>0.338877570253551</td><td>2</td><td>46.58700616712138</td><td>0.9901681478784427</td><td>zmag</td><td>1</td><td>0.9901681478784427</td><td>1.0</td></tr>\n",
       "<tr><td>217894</td><td>1237679254135374463</td><td>8.446828836341155</td><td>2</td><td>0.00026373070734237575</td><td>0.0005713187040694621</td><td>umag</td><td>1</td><td>0.0005713187040694621</td><td>1.0</td></tr>\n",
       "<tr><td>217882</td><td>1237679254135439695</td><td>0.8786664462688236</td><td>2</td><td>22.1845395727159</td><td>0.9795742446116733</td><td>zmag</td><td>1</td><td>0.9795742446116733</td><td>1.0</td></tr>\n",
       "</table>"
      ],
      "text/plain": [
       "<Table masked=True length=844>\n",
       "SRCID_xxl      SRCID_sdss     ...     prob_has_match     prob_this_match  \n",
       "                              ...                                         \n",
       "  str11          str21        ...        float64             float64      \n",
       "--------- ------------------- ... --------------------- ------------------\n",
       "   225328 1237679322861011512 ...    0.9912095692647905                1.0\n",
       "   214851 1237679323397882147 ...    0.9920010393988656                1.0\n",
       "   225342 1237679322861011562 ...  0.007868603616921918                1.0\n",
       "   215403 1237679323397948127 ...    0.9517210750328098                1.0\n",
       "   214878 1237679254134587627 ...    0.9588244664187242                1.0\n",
       "   225341 1237679322861076661 ...    0.9918950262250092                1.0\n",
       "   214858 1237679323397948131 ... 7.109341694974711e-06 0.9999317996623481\n",
       "   226800 1237679323397947782 ...    0.1962606279466744 0.7374795041783734\n",
       "   214857 1237679323397947789 ...    0.9721335472413575 0.9999999917229583\n",
       "      ...                 ... ...                   ...                ...\n",
       "   217909 1237679322861863352 ...    0.9769823204613822 0.9999998798763173\n",
       "   217303 1237679254135373933 ...    0.5794572328136611                1.0\n",
       "   217313 1237679254135374545 ...    0.9841161977833232                1.0\n",
       "   218676 1237679322861863376 ...    0.9849436543563709                1.0\n",
       "   217294 1237679323398734463 ...    0.9807162808211469                1.0\n",
       "   217307 1237679254135374572 ...    0.9662827695903778                1.0\n",
       "   217928 1237679322861863452 ...   0.18280120756774645                1.0\n",
       "   217919 1237679322861863461 ...    0.9901681478784427                1.0\n",
       "   217894 1237679254135374463 ... 0.0005713187040694621                1.0\n",
       "   217882 1237679254135439695 ...    0.9795742446116733                1.0"
      ]
     },
     "execution_count": 20,
     "metadata": {},
     "output_type": "execute_result"
    }
   ],
   "source": [
    "primary_matches = xm.get_matchs(match_type='primary')\n",
    "primary_matches"
   ]
  },
  {
   "cell_type": "markdown",
   "metadata": {},
   "source": [
    "List of most likely counterparts, including X-ray sources with no counterparts:"
   ]
  },
  {
   "cell_type": "code",
   "execution_count": 21,
   "metadata": {},
   "outputs": [
    {
     "data": {
      "text/html": [
       "<i>Table masked=True length=1238</i>\n",
       "<table id=\"table140275852182808\" class=\"table-striped table-bordered table-condensed\">\n",
       "<thead><tr><th>SRCID_xxl</th><th>SRCID_sdss</th><th>Separation_xxl_sdss</th><th>ncat</th><th>LR_BEST</th><th>REL_BEST</th><th>LR_BEST_MAG</th><th>match_flag</th><th>prob_has_match</th><th>prob_this_match</th></tr></thead>\n",
       "<thead><tr><th></th><th></th><th>arcsec</th><th></th><th></th><th></th><th></th><th></th><th></th><th></th></tr></thead>\n",
       "<thead><tr><th>str11</th><th>str21</th><th>float64</th><th>int64</th><th>float64</th><th>float64</th><th>bytes4</th><th>int64</th><th>float64</th><th>float64</th></tr></thead>\n",
       "<tr><td>225328</td><td>1237679322861011512</td><td>1.3714570888758941</td><td>2</td><td>51.98613717986995</td><td>0.9912095692647905</td><td>gmag</td><td>1</td><td>0.9912095692647905</td><td>1.0</td></tr>\n",
       "<tr><td>225285</td><td>--</td><td>--</td><td>1</td><td>--</td><td>--</td><td>0.0</td><td>1</td><td>0.0</td><td>0.0</td></tr>\n",
       "<tr><td>214851</td><td>1237679323397882147</td><td>1.3144638565450806</td><td>2</td><td>57.215360047213956</td><td>0.9920010393988656</td><td>umag</td><td>1</td><td>0.9920010393988656</td><td>1.0</td></tr>\n",
       "<tr><td>225342</td><td>1237679322861011562</td><td>7.170840526164801</td><td>2</td><td>0.0036687630482993413</td><td>0.007868603616921918</td><td>zmag</td><td>1</td><td>0.007868603616921918</td><td>1.0</td></tr>\n",
       "<tr><td>215403</td><td>1237679323397948127</td><td>2.427267359409059</td><td>2</td><td>9.118917440205458</td><td>0.9517210750328098</td><td>zmag</td><td>1</td><td>0.9517210750328098</td><td>1.0</td></tr>\n",
       "<tr><td>225338</td><td>--</td><td>--</td><td>1</td><td>--</td><td>--</td><td>0.0</td><td>1</td><td>0.0</td><td>0.0</td></tr>\n",
       "<tr><td>214878</td><td>1237679254134587627</td><td>1.9889052193363361</td><td>2</td><td>10.74320684128775</td><td>0.9588244664187242</td><td>umag</td><td>1</td><td>0.9588244664187242</td><td>1.0</td></tr>\n",
       "<tr><td>225341</td><td>1237679322861076661</td><td>1.5086594463281928</td><td>2</td><td>56.46094779885835</td><td>0.9918950262250092</td><td>umag</td><td>1</td><td>0.9918950262250092</td><td>1.0</td></tr>\n",
       "<tr><td>225368</td><td>--</td><td>--</td><td>1</td><td>--</td><td>--</td><td>0.0</td><td>1</td><td>0.0</td><td>0.0</td></tr>\n",
       "<tr><td>...</td><td>...</td><td>...</td><td>...</td><td>...</td><td>...</td><td>...</td><td>...</td><td>...</td><td>...</td></tr>\n",
       "<tr><td>217268</td><td>--</td><td>--</td><td>1</td><td>--</td><td>--</td><td>0.0</td><td>1</td><td>0.0</td><td>0.0</td></tr>\n",
       "<tr><td>217929</td><td>--</td><td>--</td><td>1</td><td>--</td><td>--</td><td>0.0</td><td>1</td><td>0.0</td><td>0.0</td></tr>\n",
       "<tr><td>217307</td><td>1237679254135374572</td><td>1.751286873484423</td><td>2</td><td>13.256947304867177</td><td>0.9662827695903778</td><td>zmag</td><td>1</td><td>0.9662827695903778</td><td>1.0</td></tr>\n",
       "<tr><td>217889</td><td>--</td><td>--</td><td>1</td><td>--</td><td>--</td><td>0.0</td><td>1</td><td>0.0</td><td>0.0</td></tr>\n",
       "<tr><td>217928</td><td>1237679322861863452</td><td>3.669063421348808</td><td>2</td><td>0.10347669102855665</td><td>0.18280120756774645</td><td>zmag</td><td>1</td><td>0.18280120756774645</td><td>1.0</td></tr>\n",
       "<tr><td>217919</td><td>1237679322861863461</td><td>0.338877570253551</td><td>2</td><td>46.58700616712138</td><td>0.9901681478784427</td><td>zmag</td><td>1</td><td>0.9901681478784427</td><td>1.0</td></tr>\n",
       "<tr><td>217296</td><td>--</td><td>--</td><td>1</td><td>--</td><td>--</td><td>0.0</td><td>1</td><td>0.0</td><td>0.0</td></tr>\n",
       "<tr><td>217927</td><td>--</td><td>--</td><td>1</td><td>--</td><td>--</td><td>0.0</td><td>1</td><td>0.0</td><td>0.0</td></tr>\n",
       "<tr><td>217894</td><td>1237679254135374463</td><td>8.446828836341155</td><td>2</td><td>0.00026373070734237575</td><td>0.0005713187040694621</td><td>umag</td><td>1</td><td>0.0005713187040694621</td><td>1.0</td></tr>\n",
       "<tr><td>217882</td><td>1237679254135439695</td><td>0.8786664462688236</td><td>2</td><td>22.1845395727159</td><td>0.9795742446116733</td><td>zmag</td><td>1</td><td>0.9795742446116733</td><td>1.0</td></tr>\n",
       "</table>"
      ],
      "text/plain": [
       "<Table masked=True length=1238>\n",
       "SRCID_xxl      SRCID_sdss     ...     prob_has_match    prob_this_match\n",
       "                              ...                                      \n",
       "  str11          str21        ...        float64            float64    \n",
       "--------- ------------------- ... --------------------- ---------------\n",
       "   225328 1237679322861011512 ...    0.9912095692647905             1.0\n",
       "   225285                  -- ...                   0.0             0.0\n",
       "   214851 1237679323397882147 ...    0.9920010393988656             1.0\n",
       "   225342 1237679322861011562 ...  0.007868603616921918             1.0\n",
       "   215403 1237679323397948127 ...    0.9517210750328098             1.0\n",
       "   225338                  -- ...                   0.0             0.0\n",
       "   214878 1237679254134587627 ...    0.9588244664187242             1.0\n",
       "   225341 1237679322861076661 ...    0.9918950262250092             1.0\n",
       "   225368                  -- ...                   0.0             0.0\n",
       "      ...                 ... ...                   ...             ...\n",
       "   217268                  -- ...                   0.0             0.0\n",
       "   217929                  -- ...                   0.0             0.0\n",
       "   217307 1237679254135374572 ...    0.9662827695903778             1.0\n",
       "   217889                  -- ...                   0.0             0.0\n",
       "   217928 1237679322861863452 ...   0.18280120756774645             1.0\n",
       "   217919 1237679322861863461 ...    0.9901681478784427             1.0\n",
       "   217296                  -- ...                   0.0             0.0\n",
       "   217927                  -- ...                   0.0             0.0\n",
       "   217894 1237679254135374463 ... 0.0005713187040694621             1.0\n",
       "   217882 1237679254135439695 ...    0.9795742446116733             1.0"
      ]
     },
     "execution_count": 21,
     "metadata": {},
     "output_type": "execute_result"
    }
   ],
   "source": [
    "primary_matches = xm.get_matchs(match_type='primary_all')\n",
    "primary_matches"
   ]
  },
  {
   "cell_type": "markdown",
   "metadata": {},
   "source": [
    "Set as best matches only counterparts with LR above a given threshold:"
   ]
  },
  {
   "cell_type": "code",
   "execution_count": 22,
   "metadata": {},
   "outputs": [
    {
     "data": {
      "text/html": [
       "<i>Table masked=True length=664</i>\n",
       "<table id=\"table140275847940808\" class=\"table-striped table-bordered table-condensed\">\n",
       "<thead><tr><th>SRCID_xxl</th><th>SRCID_sdss</th><th>Separation_xxl_sdss</th><th>ncat</th><th>LR_BEST</th><th>REL_BEST</th><th>LR_BEST_MAG</th><th>match_flag</th><th>prob_has_match</th><th>prob_this_match</th><th>best_match_flag</th></tr></thead>\n",
       "<thead><tr><th></th><th></th><th>arcsec</th><th></th><th></th><th></th><th></th><th></th><th></th><th></th><th></th></tr></thead>\n",
       "<thead><tr><th>str11</th><th>str21</th><th>float64</th><th>int64</th><th>float64</th><th>float64</th><th>bytes4</th><th>int64</th><th>float64</th><th>float64</th><th>int64</th></tr></thead>\n",
       "<tr><td>225328</td><td>1237679322861011512</td><td>1.3714570888758941</td><td>2</td><td>51.98613717986995</td><td>0.9912095692647905</td><td>gmag</td><td>1</td><td>0.9912095692647905</td><td>1.0</td><td>1</td></tr>\n",
       "<tr><td>214851</td><td>1237679323397882147</td><td>1.3144638565450806</td><td>2</td><td>57.215360047213956</td><td>0.9920010393988656</td><td>umag</td><td>1</td><td>0.9920010393988656</td><td>1.0</td><td>1</td></tr>\n",
       "<tr><td>215403</td><td>1237679323397948127</td><td>2.427267359409059</td><td>2</td><td>9.118917440205458</td><td>0.9517210750328098</td><td>zmag</td><td>1</td><td>0.9517210750328098</td><td>1.0</td><td>1</td></tr>\n",
       "<tr><td>214878</td><td>1237679254134587627</td><td>1.9889052193363361</td><td>2</td><td>10.74320684128775</td><td>0.9588244664187242</td><td>umag</td><td>1</td><td>0.9588244664187242</td><td>1.0</td><td>1</td></tr>\n",
       "<tr><td>225341</td><td>1237679322861076661</td><td>1.5086594463281928</td><td>2</td><td>56.46094779885835</td><td>0.9918950262250092</td><td>umag</td><td>1</td><td>0.9918950262250092</td><td>1.0</td><td>1</td></tr>\n",
       "<tr><td>214857</td><td>1237679323397947789</td><td>1.7711934173395705</td><td>2</td><td>16.137469190271627</td><td>0.9721335391949676</td><td>zmag</td><td>1</td><td>0.9721335472413575</td><td>0.9999999917229583</td><td>1</td></tr>\n",
       "<tr><td>225416</td><td>1237679253597716770</td><td>2.0121705162664454</td><td>2</td><td>19.100314621743877</td><td>0.9764314186114543</td><td>gmag</td><td>1</td><td>0.9764314186114543</td><td>1.0</td><td>1</td></tr>\n",
       "<tr><td>225370</td><td>1237679322861076786</td><td>4.746065774034002</td><td>2</td><td>1.097868093443459</td><td>0.6718624635359156</td><td>zmag</td><td>1</td><td>0.7169120374626713</td><td>0.9371616438661049</td><td>1</td></tr>\n",
       "<tr><td>214924</td><td>1237679254134587794</td><td>2.1276531024306267</td><td>2</td><td>10.638625598901196</td><td>0.9584641991051972</td><td>gmag</td><td>1</td><td>0.9584641991051972</td><td>1.0</td><td>1</td></tr>\n",
       "<tr><td>...</td><td>...</td><td>...</td><td>...</td><td>...</td><td>...</td><td>...</td><td>...</td><td>...</td><td>...</td><td>...</td></tr>\n",
       "<tr><td>218678</td><td>1237679253598503462</td><td>1.2999506812016144</td><td>2</td><td>22.322486241091948</td><td>0.9796979073784993</td><td>zmag</td><td>1</td><td>0.9796979073784993</td><td>1.0</td><td>1</td></tr>\n",
       "<tr><td>217238</td><td>1237679323398734414</td><td>1.5270863141427915</td><td>2</td><td>38.24305464966283</td><td>0.9880882551679152</td><td>gmag</td><td>1</td><td>0.9880882551679152</td><td>1.0</td><td>1</td></tr>\n",
       "<tr><td>217909</td><td>1237679322861863352</td><td>2.03633789927016</td><td>2</td><td>19.56849077251567</td><td>0.976982203102668</td><td>gmag</td><td>1</td><td>0.9769823204613822</td><td>0.9999998798763173</td><td>1</td></tr>\n",
       "<tr><td>217303</td><td>1237679254135373933</td><td>4.439494436789353</td><td>2</td><td>0.6352481934217745</td><td>0.5794572328136611</td><td>gmag</td><td>1</td><td>0.5794572328136611</td><td>1.0</td><td>1</td></tr>\n",
       "<tr><td>217313</td><td>1237679254135374545</td><td>1.0820380078272642</td><td>2</td><td>28.584195601708448</td><td>0.9841161977833232</td><td>umag</td><td>1</td><td>0.9841161977833232</td><td>1.0</td><td>1</td></tr>\n",
       "<tr><td>218676</td><td>1237679322861863376</td><td>0.5475653416462244</td><td>2</td><td>30.2609807093983</td><td>0.9849436543563709</td><td>zmag</td><td>1</td><td>0.9849436543563709</td><td>1.0</td><td>1</td></tr>\n",
       "<tr><td>217294</td><td>1237679323398734463</td><td>1.558445586040676</td><td>2</td><td>23.446866205208874</td><td>0.9807162808211469</td><td>gmag</td><td>1</td><td>0.9807162808211469</td><td>1.0</td><td>1</td></tr>\n",
       "<tr><td>217307</td><td>1237679254135374572</td><td>1.751286873484423</td><td>2</td><td>13.256947304867177</td><td>0.9662827695903778</td><td>zmag</td><td>1</td><td>0.9662827695903778</td><td>1.0</td><td>1</td></tr>\n",
       "<tr><td>217919</td><td>1237679322861863461</td><td>0.338877570253551</td><td>2</td><td>46.58700616712138</td><td>0.9901681478784427</td><td>zmag</td><td>1</td><td>0.9901681478784427</td><td>1.0</td><td>1</td></tr>\n",
       "<tr><td>217882</td><td>1237679254135439695</td><td>0.8786664462688236</td><td>2</td><td>22.1845395727159</td><td>0.9795742446116733</td><td>zmag</td><td>1</td><td>0.9795742446116733</td><td>1.0</td><td>1</td></tr>\n",
       "</table>"
      ],
      "text/plain": [
       "<Table masked=True length=664>\n",
       "SRCID_xxl      SRCID_sdss     ...  prob_this_match   best_match_flag\n",
       "                              ...                                   \n",
       "  str11          str21        ...      float64            int64     \n",
       "--------- ------------------- ... ------------------ ---------------\n",
       "   225328 1237679322861011512 ...                1.0               1\n",
       "   214851 1237679323397882147 ...                1.0               1\n",
       "   215403 1237679323397948127 ...                1.0               1\n",
       "   214878 1237679254134587627 ...                1.0               1\n",
       "   225341 1237679322861076661 ...                1.0               1\n",
       "   214857 1237679323397947789 ... 0.9999999917229583               1\n",
       "   225416 1237679253597716770 ...                1.0               1\n",
       "   225370 1237679322861076786 ... 0.9371616438661049               1\n",
       "   214924 1237679254134587794 ...                1.0               1\n",
       "      ...                 ... ...                ...             ...\n",
       "   218678 1237679253598503462 ...                1.0               1\n",
       "   217238 1237679323398734414 ...                1.0               1\n",
       "   217909 1237679322861863352 ... 0.9999998798763173               1\n",
       "   217303 1237679254135373933 ...                1.0               1\n",
       "   217313 1237679254135374545 ...                1.0               1\n",
       "   218676 1237679322861863376 ...                1.0               1\n",
       "   217294 1237679323398734463 ...                1.0               1\n",
       "   217307 1237679254135374572 ...                1.0               1\n",
       "   217919 1237679322861863461 ...                1.0               1\n",
       "   217882 1237679254135439695 ...                1.0               1"
      ]
     },
     "execution_count": 22,
     "metadata": {},
     "output_type": "execute_result"
    }
   ],
   "source": [
    "xm.set_best_matchs(cutoff=0.5)\n",
    "\n",
    "best_matches = xm.get_matchs(match_type='best')\n",
    "best_matches"
   ]
  },
  {
   "cell_type": "markdown",
   "metadata": {},
   "source": [
    "If no LR threshold is given, the method will try to find the optimum threshold (maximizing the completeness while minimizing the error rate):"
   ]
  },
  {
   "cell_type": "code",
   "execution_count": 23,
   "metadata": {},
   "outputs": [
    {
     "name": "stdout",
     "output_type": "stream",
     "text": [
      "Optimal threshold is 0.30000000000000004:\n",
      "Selects ~55% of matches with a false detection rate of < 6%\n"
     ]
    },
    {
     "data": {
      "text/html": [
       "<i>Table masked=True length=680</i>\n",
       "<table id=\"table140275847401544\" class=\"table-striped table-bordered table-condensed\">\n",
       "<thead><tr><th>SRCID_xxl</th><th>SRCID_sdss</th><th>Separation_xxl_sdss</th><th>ncat</th><th>LR_BEST</th><th>REL_BEST</th><th>LR_BEST_MAG</th><th>match_flag</th><th>prob_has_match</th><th>prob_this_match</th><th>best_match_flag</th></tr></thead>\n",
       "<thead><tr><th></th><th></th><th>arcsec</th><th></th><th></th><th></th><th></th><th></th><th></th><th></th><th></th></tr></thead>\n",
       "<thead><tr><th>str11</th><th>str21</th><th>float64</th><th>int64</th><th>float64</th><th>float64</th><th>bytes4</th><th>int64</th><th>float64</th><th>float64</th><th>int64</th></tr></thead>\n",
       "<tr><td>225328</td><td>1237679322861011512</td><td>1.3714570888758941</td><td>2</td><td>51.98613717986995</td><td>0.9912095692647905</td><td>gmag</td><td>1</td><td>0.9912095692647905</td><td>1.0</td><td>1</td></tr>\n",
       "<tr><td>214851</td><td>1237679323397882147</td><td>1.3144638565450806</td><td>2</td><td>57.215360047213956</td><td>0.9920010393988656</td><td>umag</td><td>1</td><td>0.9920010393988656</td><td>1.0</td><td>1</td></tr>\n",
       "<tr><td>215403</td><td>1237679323397948127</td><td>2.427267359409059</td><td>2</td><td>9.118917440205458</td><td>0.9517210750328098</td><td>zmag</td><td>1</td><td>0.9517210750328098</td><td>1.0</td><td>1</td></tr>\n",
       "<tr><td>214878</td><td>1237679254134587627</td><td>1.9889052193363361</td><td>2</td><td>10.74320684128775</td><td>0.9588244664187242</td><td>umag</td><td>1</td><td>0.9588244664187242</td><td>1.0</td><td>1</td></tr>\n",
       "<tr><td>225341</td><td>1237679322861076661</td><td>1.5086594463281928</td><td>2</td><td>56.46094779885835</td><td>0.9918950262250092</td><td>umag</td><td>1</td><td>0.9918950262250092</td><td>1.0</td><td>1</td></tr>\n",
       "<tr><td>214857</td><td>1237679323397947789</td><td>1.7711934173395705</td><td>2</td><td>16.137469190271627</td><td>0.9721335391949676</td><td>zmag</td><td>1</td><td>0.9721335472413575</td><td>0.9999999917229583</td><td>1</td></tr>\n",
       "<tr><td>225416</td><td>1237679253597716770</td><td>2.0121705162664454</td><td>2</td><td>19.100314621743877</td><td>0.9764314186114543</td><td>gmag</td><td>1</td><td>0.9764314186114543</td><td>1.0</td><td>1</td></tr>\n",
       "<tr><td>225370</td><td>1237679322861076786</td><td>4.746065774034002</td><td>2</td><td>1.097868093443459</td><td>0.6718624635359156</td><td>zmag</td><td>1</td><td>0.7169120374626713</td><td>0.9371616438661049</td><td>1</td></tr>\n",
       "<tr><td>214924</td><td>1237679254134587794</td><td>2.1276531024306267</td><td>2</td><td>10.638625598901196</td><td>0.9584641991051972</td><td>gmag</td><td>1</td><td>0.9584641991051972</td><td>1.0</td><td>1</td></tr>\n",
       "<tr><td>...</td><td>...</td><td>...</td><td>...</td><td>...</td><td>...</td><td>...</td><td>...</td><td>...</td><td>...</td><td>...</td></tr>\n",
       "<tr><td>218678</td><td>1237679253598503462</td><td>1.2999506812016144</td><td>2</td><td>22.322486241091948</td><td>0.9796979073784993</td><td>zmag</td><td>1</td><td>0.9796979073784993</td><td>1.0</td><td>1</td></tr>\n",
       "<tr><td>217238</td><td>1237679323398734414</td><td>1.5270863141427915</td><td>2</td><td>38.24305464966283</td><td>0.9880882551679152</td><td>gmag</td><td>1</td><td>0.9880882551679152</td><td>1.0</td><td>1</td></tr>\n",
       "<tr><td>217909</td><td>1237679322861863352</td><td>2.03633789927016</td><td>2</td><td>19.56849077251567</td><td>0.976982203102668</td><td>gmag</td><td>1</td><td>0.9769823204613822</td><td>0.9999998798763173</td><td>1</td></tr>\n",
       "<tr><td>217303</td><td>1237679254135373933</td><td>4.439494436789353</td><td>2</td><td>0.6352481934217745</td><td>0.5794572328136611</td><td>gmag</td><td>1</td><td>0.5794572328136611</td><td>1.0</td><td>1</td></tr>\n",
       "<tr><td>217313</td><td>1237679254135374545</td><td>1.0820380078272642</td><td>2</td><td>28.584195601708448</td><td>0.9841161977833232</td><td>umag</td><td>1</td><td>0.9841161977833232</td><td>1.0</td><td>1</td></tr>\n",
       "<tr><td>218676</td><td>1237679322861863376</td><td>0.5475653416462244</td><td>2</td><td>30.2609807093983</td><td>0.9849436543563709</td><td>zmag</td><td>1</td><td>0.9849436543563709</td><td>1.0</td><td>1</td></tr>\n",
       "<tr><td>217294</td><td>1237679323398734463</td><td>1.558445586040676</td><td>2</td><td>23.446866205208874</td><td>0.9807162808211469</td><td>gmag</td><td>1</td><td>0.9807162808211469</td><td>1.0</td><td>1</td></tr>\n",
       "<tr><td>217307</td><td>1237679254135374572</td><td>1.751286873484423</td><td>2</td><td>13.256947304867177</td><td>0.9662827695903778</td><td>zmag</td><td>1</td><td>0.9662827695903778</td><td>1.0</td><td>1</td></tr>\n",
       "<tr><td>217919</td><td>1237679322861863461</td><td>0.338877570253551</td><td>2</td><td>46.58700616712138</td><td>0.9901681478784427</td><td>zmag</td><td>1</td><td>0.9901681478784427</td><td>1.0</td><td>1</td></tr>\n",
       "<tr><td>217882</td><td>1237679254135439695</td><td>0.8786664462688236</td><td>2</td><td>22.1845395727159</td><td>0.9795742446116733</td><td>zmag</td><td>1</td><td>0.9795742446116733</td><td>1.0</td><td>1</td></tr>\n",
       "</table>"
      ],
      "text/plain": [
       "<Table masked=True length=680>\n",
       "SRCID_xxl      SRCID_sdss     ...  prob_this_match   best_match_flag\n",
       "                              ...                                   \n",
       "  str11          str21        ...      float64            int64     \n",
       "--------- ------------------- ... ------------------ ---------------\n",
       "   225328 1237679322861011512 ...                1.0               1\n",
       "   214851 1237679323397882147 ...                1.0               1\n",
       "   215403 1237679323397948127 ...                1.0               1\n",
       "   214878 1237679254134587627 ...                1.0               1\n",
       "   225341 1237679322861076661 ...                1.0               1\n",
       "   214857 1237679323397947789 ... 0.9999999917229583               1\n",
       "   225416 1237679253597716770 ...                1.0               1\n",
       "   225370 1237679322861076786 ... 0.9371616438661049               1\n",
       "   214924 1237679254134587794 ...                1.0               1\n",
       "      ...                 ... ...                ...             ...\n",
       "   218678 1237679253598503462 ...                1.0               1\n",
       "   217238 1237679323398734414 ...                1.0               1\n",
       "   217909 1237679322861863352 ... 0.9999998798763173               1\n",
       "   217303 1237679254135373933 ...                1.0               1\n",
       "   217313 1237679254135374545 ...                1.0               1\n",
       "   218676 1237679322861863376 ...                1.0               1\n",
       "   217294 1237679323398734463 ...                1.0               1\n",
       "   217307 1237679254135374572 ...                1.0               1\n",
       "   217919 1237679322861863461 ...                1.0               1\n",
       "   217882 1237679254135439695 ...                1.0               1"
      ]
     },
     "execution_count": 23,
     "metadata": {},
     "output_type": "execute_result"
    }
   ],
   "source": [
    "xm.set_best_matchs()\n",
    "\n",
    "best_matches = xm.get_matchs(match_type='best')\n",
    "best_matches"
   ]
  },
  {
   "cell_type": "markdown",
   "metadata": {},
   "source": [
    "DRA, DDEC offsets between matches:"
   ]
  },
  {
   "cell_type": "code",
   "execution_count": 24,
   "metadata": {},
   "outputs": [
    {
     "data": {
      "image/png": "[encoded data removed]",
      "text/plain": [
       "<Figure size 936x360 with 2 Axes>"
      ]
     },
     "metadata": {
      "needs_background": "light"
     },
     "output_type": "display_data"
    }
   ],
   "source": [
    "from matplotlib import pyplot as plt\n",
    "from scipy.stats import norm\n",
    "\n",
    "dra, ddec = xm.offset('xxl', 'sdss', match_type='best')\n",
    "x = np.linspace(-10, 10, num=100)\n",
    "\n",
    "fig = plt.figure(figsize=(13, 5))\n",
    "\n",
    "plt.subplot(121)\n",
    "plt.hist(dra, bins='auto', density=True)\n",
    "plt.plot(x, norm.pdf(x, np.mean(dra), np.std(dra)))\n",
    "plt.xlabel('DRA / arcsec')\n",
    "\n",
    "plt.subplot(122)\n",
    "plt.hist(ddec, bins='auto', density=True)\n",
    "plt.plot(x, norm.pdf(x, np.mean(ddec), np.std(ddec)))\n",
    "plt.xlabel('DDEC / arcsec')\n",
    "\n",
    "plt.show()"
   ]
  },
  {
   "cell_type": "markdown",
   "metadata": {},
   "source": [
    "How to obtain the information in the optical and X-ray catalogues for the primary counterparts:"
   ]
  },
  {
   "cell_type": "code",
   "execution_count": 25,
   "metadata": {},
   "outputs": [
    {
     "data": {
      "text/plain": [
       "     SRCID_sdss         RA       DEC    e_RA_ICRS ...  rmag   imag   zmag \n",
       "                       deg       deg      arcsec  ...  mag    mag    mag  \n",
       "------------------- --------- --------- --------- ... ------ ------ ------\n",
       "1237679322861011512 34.311354 -4.600466     0.024 ... 20.062 19.671 19.333\n",
       "1237679323397882147 34.319672 -4.283898     0.025 ... 20.590 20.662 20.694\n",
       "1237679323397948127 34.340016 -4.189702     0.088 ... 22.611 22.353 21.180\n",
       "1237679254134587627 34.344256  -4.37099     0.022 ... 20.801 20.766 20.311\n",
       "1237679322861076661 34.345445 -4.628632     0.047 ... 21.579 21.498 21.188\n",
       "1237679323397947789 34.363663  -4.31552     0.082 ... 22.112 22.576 21.722\n",
       "1237679253597716770 34.362917 -4.810162     0.018 ... 20.557 19.961 19.497\n",
       "1237679322861076786 34.367421 -4.700677     0.089 ... 21.764 21.845 21.954\n",
       "1237679254134587794 34.375441 -4.519295     0.071 ... 22.544 22.683 22.686\n",
       "1237679323397947552 34.378941 -4.306573     0.009 ... 19.443 19.272 19.039\n",
       "                ...       ...       ...       ... ...    ...    ...    ...\n",
       "1237679253598503462 36.226313 -4.719962     0.094 ... 22.028 21.498 21.388\n",
       "1237679323398734414 36.228419  -4.10802     0.059 ... 21.395 21.137 21.121\n",
       "1237679322861863352 36.232427 -4.533076     0.076 ... 21.375 21.025 21.663\n",
       "1237679254135373933 36.233767 -4.290447     0.216 ... 21.514 21.702 21.500\n",
       "1237679254135374545 36.233673 -4.329557     0.121 ... 22.358 21.962 21.302\n",
       "1237679322861863376 36.246582 -4.697877     0.118 ... 21.983 22.091 21.495\n",
       "1237679323398734463 36.253822 -4.220832      0.09 ... 22.002 21.816 22.337\n",
       "1237679254135374572 36.270566 -4.307527     0.105 ... 22.164 22.086 21.460\n",
       "1237679322861863461 36.280666 -4.567879     0.069 ... 21.635 21.209 20.965\n",
       "1237679254135439695 36.299244 -4.461509     0.065 ... 21.548 21.210 21.170\n",
       "Length = 680 rows"
      ]
     },
     "execution_count": 25,
     "metadata": {},
     "output_type": "execute_result"
    }
   ],
   "source": [
    "ocat_best = ocat.select_by_id(best_matches['SRCID_sdss'])\n",
    "ocat_best"
   ]
  },
  {
   "cell_type": "code",
   "execution_count": 26,
   "metadata": {},
   "outputs": [
    {
     "data": {
      "text/plain": [
       "SRCID_xxl    RA      DEC    e_Bpos\n",
       "            deg      deg    arcsec\n",
       "--------- -------- -------- ------\n",
       "   225328 34.31101  -4.6003    0.8\n",
       "   214851  34.3196 -4.28354    1.8\n",
       "   215403 34.33934 -4.18971    1.8\n",
       "   214878 34.34372 -4.37113    0.8\n",
       "   225341 34.34508 -4.62884    1.7\n",
       "   214857 34.36319 -4.31538    1.5\n",
       "   225416 34.36344 -4.80996    1.0\n",
       "   225370 34.36855 -4.69999    2.0\n",
       "   214924   34.375 -4.51969    1.8\n",
       "   214856 34.37853 -4.30686    1.0\n",
       "      ...      ...      ...    ...\n",
       "   218678 36.22601 -4.72016    1.5\n",
       "   217238 36.22823 -4.10764    1.5\n",
       "   217909 36.23192 -4.53333    1.5\n",
       "   217303 36.23278 -4.29119    1.5\n",
       "   217313 36.23379 -4.32928    1.6\n",
       "   218676 36.24653 -4.69802    1.5\n",
       "   217294 36.25385  -4.2204    1.8\n",
       "   217307 36.27068   -4.308    1.9\n",
       "   217919 36.28076 -4.56787    1.3\n",
       "   217882 36.29906 -4.46167    1.7\n",
       "Length = 680 rows"
      ]
     },
     "execution_count": 26,
     "metadata": {},
     "output_type": "execute_result"
    }
   ],
   "source": [
    "xcat_best = xcat.select_by_id(best_matches['SRCID_xxl'])\n",
    "xcat_best"
   ]
  },
  {
   "cell_type": "markdown",
   "metadata": {},
   "source": [
    "Join X-ray and optical information of the best matches in a single Astropy Table:"
   ]
  },
  {
   "cell_type": "code",
   "execution_count": 27,
   "metadata": {
    "scrolled": false
   },
   "outputs": [
    {
     "data": {
      "text/html": [
       "<i>Table masked=True length=680</i>\n",
       "<table id=\"table140275860823288\" class=\"table-striped table-bordered table-condensed\">\n",
       "<thead><tr><th>SRCID_xxl</th><th>RA_xxl</th><th>DEC_xxl</th><th>e_Bpos</th><th>SRCID_sdss</th><th>RA_sdss</th><th>DEC_sdss</th><th>e_RA_ICRS</th><th>e_DE_ICRS</th><th>umag</th><th>gmag</th><th>rmag</th><th>imag</th><th>zmag</th></tr></thead>\n",
       "<thead><tr><th></th><th>deg</th><th>deg</th><th>arcsec</th><th></th><th>deg</th><th>deg</th><th>arcsec</th><th>arcsec</th><th>mag</th><th>mag</th><th>mag</th><th>mag</th><th>mag</th></tr></thead>\n",
       "<thead><tr><th>str11</th><th>float64</th><th>float64</th><th>float32</th><th>str21</th><th>float64</th><th>float64</th><th>float32</th><th>float32</th><th>float32</th><th>float32</th><th>float32</th><th>float32</th><th>float32</th></tr></thead>\n",
       "<tr><td>225328</td><td>34.31101</td><td>-4.6003</td><td>0.8</td><td>1237679322861011512</td><td>34.311354</td><td>-4.600466</td><td>0.024</td><td>0.021</td><td>23.089</td><td>21.392</td><td>20.062</td><td>19.671</td><td>19.333</td></tr>\n",
       "<tr><td>214851</td><td>34.3196</td><td>-4.28354</td><td>1.8</td><td>1237679323397882147</td><td>34.319672</td><td>-4.283898</td><td>0.025</td><td>0.022</td><td>21.144</td><td>20.703</td><td>20.590</td><td>20.662</td><td>20.694</td></tr>\n",
       "<tr><td>215403</td><td>34.33934</td><td>-4.18971</td><td>1.8</td><td>1237679323397948127</td><td>34.340016</td><td>-4.189702</td><td>0.088</td><td>0.115</td><td>23.631</td><td>23.822</td><td>22.611</td><td>22.353</td><td>21.180</td></tr>\n",
       "<tr><td>214878</td><td>34.34372</td><td>-4.37113</td><td>0.8</td><td>1237679254134587627</td><td>34.344256</td><td>-4.37099</td><td>0.022</td><td>0.021</td><td>21.645</td><td>21.046</td><td>20.801</td><td>20.766</td><td>20.311</td></tr>\n",
       "<tr><td>225341</td><td>34.34508</td><td>-4.62884</td><td>1.7</td><td>1237679322861076661</td><td>34.345445</td><td>-4.628632</td><td>0.047</td><td>0.058</td><td>21.358</td><td>21.705</td><td>21.579</td><td>21.498</td><td>21.188</td></tr>\n",
       "<tr><td>214857</td><td>34.36319</td><td>-4.31538</td><td>1.5</td><td>1237679323397947789</td><td>34.363663</td><td>-4.31552</td><td>0.082</td><td>0.096</td><td>23.996</td><td>22.407</td><td>22.112</td><td>22.576</td><td>21.722</td></tr>\n",
       "<tr><td>225416</td><td>34.36344</td><td>-4.80996</td><td>1.0</td><td>1237679253597716770</td><td>34.362917</td><td>-4.810162</td><td>0.018</td><td>0.019</td><td>23.055</td><td>21.299</td><td>20.557</td><td>19.961</td><td>19.497</td></tr>\n",
       "<tr><td>225370</td><td>34.36855</td><td>-4.69999</td><td>2.0</td><td>1237679322861076786</td><td>34.367421</td><td>-4.700677</td><td>0.089</td><td>0.125</td><td>23.424</td><td>22.809</td><td>21.764</td><td>21.845</td><td>21.954</td></tr>\n",
       "<tr><td>214924</td><td>34.375</td><td>-4.51969</td><td>1.8</td><td>1237679254134587794</td><td>34.375441</td><td>-4.519295</td><td>0.071</td><td>0.09</td><td>22.714</td><td>22.410</td><td>22.544</td><td>22.683</td><td>22.686</td></tr>\n",
       "<tr><td>...</td><td>...</td><td>...</td><td>...</td><td>...</td><td>...</td><td>...</td><td>...</td><td>...</td><td>...</td><td>...</td><td>...</td><td>...</td><td>...</td></tr>\n",
       "<tr><td>218678</td><td>36.22601</td><td>-4.72016</td><td>1.5</td><td>1237679253598503462</td><td>36.226313</td><td>-4.719962</td><td>0.094</td><td>0.129</td><td>25.564</td><td>22.878</td><td>22.028</td><td>21.498</td><td>21.388</td></tr>\n",
       "<tr><td>217238</td><td>36.22823</td><td>-4.10764</td><td>1.5</td><td>1237679323398734414</td><td>36.228419</td><td>-4.10802</td><td>0.059</td><td>0.052</td><td>22.946</td><td>21.472</td><td>21.395</td><td>21.137</td><td>21.121</td></tr>\n",
       "<tr><td>217909</td><td>36.23192</td><td>-4.53333</td><td>1.5</td><td>1237679322861863352</td><td>36.232427</td><td>-4.533076</td><td>0.076</td><td>0.058</td><td>22.324</td><td>21.713</td><td>21.375</td><td>21.025</td><td>21.663</td></tr>\n",
       "<tr><td>217303</td><td>36.23278</td><td>-4.29119</td><td>1.5</td><td>1237679254135373933</td><td>36.233767</td><td>-4.290447</td><td>0.216</td><td>0.095</td><td>22.468</td><td>21.813</td><td>21.514</td><td>21.702</td><td>21.500</td></tr>\n",
       "<tr><td>217313</td><td>36.23379</td><td>-4.32928</td><td>1.6</td><td>1237679254135374545</td><td>36.233673</td><td>-4.329557</td><td>0.121</td><td>0.099</td><td>22.341</td><td>23.148</td><td>22.358</td><td>21.962</td><td>21.302</td></tr>\n",
       "<tr><td>218676</td><td>36.24653</td><td>-4.69802</td><td>1.5</td><td>1237679322861863376</td><td>36.246582</td><td>-4.697877</td><td>0.118</td><td>0.164</td><td>23.839</td><td>22.289</td><td>21.983</td><td>22.091</td><td>21.495</td></tr>\n",
       "<tr><td>217294</td><td>36.25385</td><td>-4.2204</td><td>1.8</td><td>1237679323398734463</td><td>36.253822</td><td>-4.220832</td><td>0.09</td><td>0.079</td><td>22.482</td><td>21.943</td><td>22.002</td><td>21.816</td><td>22.337</td></tr>\n",
       "<tr><td>217307</td><td>36.27068</td><td>-4.308</td><td>1.9</td><td>1237679254135374572</td><td>36.270566</td><td>-4.307527</td><td>0.105</td><td>0.143</td><td>23.583</td><td>23.752</td><td>22.164</td><td>22.086</td><td>21.460</td></tr>\n",
       "<tr><td>217919</td><td>36.28076</td><td>-4.56787</td><td>1.3</td><td>1237679322861863461</td><td>36.280666</td><td>-4.567879</td><td>0.069</td><td>0.074</td><td>23.573</td><td>22.825</td><td>21.635</td><td>21.209</td><td>20.965</td></tr>\n",
       "<tr><td>217882</td><td>36.29906</td><td>-4.46167</td><td>1.7</td><td>1237679254135439695</td><td>36.299244</td><td>-4.461509</td><td>0.065</td><td>0.061</td><td>25.124</td><td>22.586</td><td>21.548</td><td>21.210</td><td>21.170</td></tr>\n",
       "</table>"
      ],
      "text/plain": [
       "<Table masked=True length=680>\n",
       "SRCID_xxl  RA_xxl  DEC_xxl   e_Bpos ...   gmag    rmag    imag    zmag \n",
       "            deg      deg     arcsec ...   mag     mag     mag     mag  \n",
       "  str11   float64  float64  float32 ... float32 float32 float32 float32\n",
       "--------- -------- -------- ------- ... ------- ------- ------- -------\n",
       "   225328 34.31101  -4.6003     0.8 ...  21.392  20.062  19.671  19.333\n",
       "   214851  34.3196 -4.28354     1.8 ...  20.703  20.590  20.662  20.694\n",
       "   215403 34.33934 -4.18971     1.8 ...  23.822  22.611  22.353  21.180\n",
       "   214878 34.34372 -4.37113     0.8 ...  21.046  20.801  20.766  20.311\n",
       "   225341 34.34508 -4.62884     1.7 ...  21.705  21.579  21.498  21.188\n",
       "   214857 34.36319 -4.31538     1.5 ...  22.407  22.112  22.576  21.722\n",
       "   225416 34.36344 -4.80996     1.0 ...  21.299  20.557  19.961  19.497\n",
       "   225370 34.36855 -4.69999     2.0 ...  22.809  21.764  21.845  21.954\n",
       "   214924   34.375 -4.51969     1.8 ...  22.410  22.544  22.683  22.686\n",
       "      ...      ...      ...     ... ...     ...     ...     ...     ...\n",
       "   218678 36.22601 -4.72016     1.5 ...  22.878  22.028  21.498  21.388\n",
       "   217238 36.22823 -4.10764     1.5 ...  21.472  21.395  21.137  21.121\n",
       "   217909 36.23192 -4.53333     1.5 ...  21.713  21.375  21.025  21.663\n",
       "   217303 36.23278 -4.29119     1.5 ...  21.813  21.514  21.702  21.500\n",
       "   217313 36.23379 -4.32928     1.6 ...  23.148  22.358  21.962  21.302\n",
       "   218676 36.24653 -4.69802     1.5 ...  22.289  21.983  22.091  21.495\n",
       "   217294 36.25385  -4.2204     1.8 ...  21.943  22.002  21.816  22.337\n",
       "   217307 36.27068   -4.308     1.9 ...  23.752  22.164  22.086  21.460\n",
       "   217919 36.28076 -4.56787     1.3 ...  22.825  21.635  21.209  20.965\n",
       "   217882 36.29906 -4.46167     1.7 ...  22.586  21.548  21.210  21.170"
      ]
     },
     "execution_count": 27,
     "metadata": {},
     "output_type": "execute_result"
    }
   ],
   "source": [
    "from astropy.table import hstack\n",
    "\n",
    "best_all = hstack(\n",
    "    [xcat_best.save(), ocat_best.save()],  # Catalogues can be converted into Tables using the `save` method\n",
    "    table_names=[xcat_best.name, ocat_best.name],\n",
    "    join_type='exact')\n",
    "best_all"
   ]
  },
  {
   "cell_type": "markdown",
   "metadata": {},
   "source": [
    "There are differents methods to characterize the statistical properties of the cross-match.\n",
    "\n",
    "Using the probabilities estimated by the LR algorithm:"
   ]
  },
  {
   "cell_type": "code",
   "execution_count": 28,
   "metadata": {},
   "outputs": [],
   "source": [
    "lr_stats = xm.stats(ncutoff=501, maxcutoff=10.0)\n",
    "\n"
   ]
  },
  {
   "cell_type": "markdown",
   "metadata": {},
   "source": [
    "By cross-matching with a randomized catalogue of X-ray sources:"
   ]
  },
  {
   "cell_type": "code",
   "execution_count": null,
   "metadata": {},
   "outputs": [],
   "source": [
    "lr_stats_rnd = xm.stats(match_rnd=True, ncutoff=501, maxcutoff=10.0)\n"
   ]
  },
  {
   "cell_type": "markdown",
   "metadata": {},
   "source": [
    "By using the randomization method described in Broos et al. 2006:"
   ]
  },
  {
   "cell_type": "code",
   "execution_count": null,
   "metadata": {},
   "outputs": [],
   "source": [
    "lr_stats_broos = xm.stats(use_broos=True, ntest=1, ncutoff=501, maxcutoff=10.0)"
   ]
  },
  {
   "cell_type": "code",
   "execution_count": null,
   "metadata": {},
   "outputs": [],
   "source": [
    "fig = plt.figure(figsize=(13, 5))\n",
    "\n",
    "plt.subplot(121)\n",
    "plt.plot(lr_stats['cutoff'], lr_stats['error_rate'], lw=3)\n",
    "plt.plot(lr_stats_rnd['cutoff'], lr_stats_rnd['error_rate'], lw=3, ls=':')\n",
    "plt.plot(lr_stats_broos['cutoff'], lr_stats_broos['error_rate'], lw=3, ls='--')\n",
    "\n",
    "plt.xlabel('LR')\n",
    "plt.ylabel('error rate')\n",
    "\n",
    "\n",
    "plt.subplot(122)\n",
    "plt.plot(lr_stats['reliability'], lr_stats['completeness'], lw=3)\n",
    "plt.plot(lr_stats_rnd['reliability'], lr_stats_rnd['completeness'], lw=3, ls=':')\n",
    "plt.plot(lr_stats_broos['reliability'], lr_stats_broos['completeness'], lw=3, ls='--')\n",
    "\n",
    "plt.xlabel('purity')\n",
    "plt.ylabel('completeness')\n",
    "\n",
    "plt.tight_layout()\n",
    "plt.show()"
   ]
  },
  {
   "cell_type": "markdown",
   "metadata": {},
   "source": [
    "We repeat the cross-matching of our two catalogues using NWAY:"
   ]
  },
  {
   "cell_type": "code",
   "execution_count": null,
   "metadata": {},
   "outputs": [],
   "source": [
    "match_nway_nomags = xm.run(method='nway', radius=10.0*u.arcsec, prior_completeness=0.55)"
   ]
  },
  {
   "cell_type": "markdown",
   "metadata": {},
   "source": [
    "The match we have just performed does not take into account the optical magnitudes of the SDSS sources. If we want to use that information during the cross-matching, we set the `use_mags` parameter to `True` and astromatch automatically estimates magnitude priors from the photometric data contained in the optical catalogue:"
   ]
  },
  {
   "cell_type": "code",
   "execution_count": null,
   "metadata": {},
   "outputs": [],
   "source": [
    "match_nway_mags_default = xm.run(method='nway', radius=10.0*u.arcsec, use_mags=True, prior_completeness=0.55)"
   ]
  },
  {
   "cell_type": "markdown",
   "metadata": {},
   "source": [
    "By default NWAY uses high likelihood counterparts (matches with high posterior probability estimated using only the positional information) to calculate the magnitude priors. Alternatively, you can build priors using the same method implemented in the LR algorithm:"
   ]
  },
  {
   "cell_type": "code",
   "execution_count": null,
   "metadata": {},
   "outputs": [],
   "source": [
    "match_nway_mags_custom = xm.run(\n",
    "    method='nway', radius=10.0*u.arcsec, prior_completeness=0.55,\n",
    "    use_mags=True,\n",
    "    bayes_prior=False,\n",
    "# Default settings for LR magnitude priors\n",
    "    mag_include_radius=10*u.arcsec,\n",
    "    magmin=10.0,\n",
    "    magmax=30.0,\n",
    "    magbinsize=0.5,\n",
    "    rndcat=True,\n",
    ")"
   ]
  },
  {
   "cell_type": "markdown",
   "metadata": {},
   "source": [
    "Or we can just use the magnitude prior we calculated during the LR match. In this case we need to define a dictionary containing the priors for each secondary catalogue that is included in the match (only the SDSS catalogue in this particular example):"
   ]
  },
  {
   "cell_type": "code",
   "execution_count": null,
   "metadata": {},
   "outputs": [],
   "source": [
    "from astromatch.priors import Prior\n",
    "\n",
    "priors = {'sdss': Prior.from_table(\"lrpriors.fits\", sdss_mags)}\n",
    "\n",
    "match_nway_mags_custom2 = xm.run(\n",
    "    method='nway', radius=10.0*u.arcsec, prior_completeness=0.55, use_mags=True, priors=priors\n",
    ")"
   ]
  },
  {
   "cell_type": "code",
   "execution_count": null,
   "metadata": {},
   "outputs": [],
   "source": [
    "fig = plt.figure(figsize=(4, 5))\n",
    "\n",
    "plt.hist(match_nway_nomags['prob_has_match'], bins='auto')\n",
    "plt.hist(match_nway_mags_default['prob_has_match'], bins='auto', histtype='step', lw=3)\n",
    "plt.hist(match_nway_mags_custom['prob_has_match'], bins='auto', histtype='step', lw=3, ls='--')\n",
    "plt.hist(match_nway_mags_custom2['prob_has_match'], bins='auto', histtype='step', lw=3, ls=':')\n",
    "\n",
    "plt.show()"
   ]
  },
  {
   "cell_type": "markdown",
   "metadata": {},
   "source": [
    "DRA, DDEC offsets between matches for NWAY results:"
   ]
  },
  {
   "cell_type": "code",
   "execution_count": null,
   "metadata": {},
   "outputs": [],
   "source": [
    "from matplotlib import pyplot as plt\n",
    "from scipy.stats import norm\n",
    "\n",
    "xm.set_best_matchs(cutoff=0.8)\n",
    "dra, ddec = xm.offset('xxl', 'sdss', match_type='best')\n",
    "x = np.linspace(-10, 10, num=100)\n",
    "\n",
    "fig = plt.figure(figsize=(13, 5))\n",
    "\n",
    "plt.subplot(121)\n",
    "plt.hist(dra, bins='auto', density=True)\n",
    "plt.plot(x, norm.pdf(x, np.mean(dra), np.std(dra)))\n",
    "plt.xlabel('DRA / arcsec')\n",
    "\n",
    "plt.subplot(122)\n",
    "plt.hist(ddec, bins='auto', density=True)\n",
    "plt.plot(x, norm.pdf(x, np.mean(ddec), np.std(ddec)))\n",
    "plt.xlabel('DDEC / arcsec')\n",
    "\n",
    "plt.show()"
   ]
  },
  {
   "cell_type": "code",
   "execution_count": null,
   "metadata": {},
   "outputs": [],
   "source": [
    "nway_stats = xm.stats(ncutoff=100, maxcutoff=0.99)\n",
    "nway_stats_rnd = xm.stats(match_rnd=True, ncutoff=100, maxcutoff=0.99, prior_completeness=0.55)\n",
    "nway_stats_broos = xm.stats(use_broos=True, ntest=5, ncutoff=100, maxcutoff=0.99, prior_completeness=0.55)"
   ]
  },
  {
   "cell_type": "code",
   "execution_count": null,
   "metadata": {},
   "outputs": [],
   "source": [
    "fig = plt.figure(figsize=(13, 5))\n",
    "\n",
    "plt.subplot(121)\n",
    "plt.plot(nway_stats['cutoff'], nway_stats['error_rate'], lw=3)\n",
    "plt.plot(nway_stats_rnd['cutoff'], nway_stats_rnd['error_rate'], lw=3, ls=':')\n",
    "plt.plot(nway_stats_broos['cutoff'], nway_stats_broos['error_rate'], lw=3, ls='--')\n",
    "\n",
    "plt.xlabel('prob_has_match')\n",
    "plt.ylabel('error rate')\n",
    "\n",
    "\n",
    "plt.subplot(122)\n",
    "plt.plot(nway_stats['reliability'], nway_stats['completeness'], lw=3)\n",
    "plt.plot(nway_stats_rnd['reliability'], nway_stats_rnd['completeness'], lw=3, ls=':')\n",
    "plt.plot(nway_stats_broos['reliability'], nway_stats_broos['completeness'], lw=3, ls='--')\n",
    "\n",
    "plt.xlabel('purity')\n",
    "plt.ylabel('completeness')\n",
    "\n",
    "plt.tight_layout()\n",
    "plt.show()"
   ]
  }
 ],
 "metadata": {
  "kernelspec": {
   "display_name": "Python 3",
   "language": "python",
   "name": "python3"
  },
  "language_info": {
   "codemirror_mode": {
    "name": "ipython",
    "version": 3
   },
   "file_extension": ".py",
   "mimetype": "text/x-python",
   "name": "python",
   "nbconvert_exporter": "python",
   "pygments_lexer": "ipython3",
   "version": "3.6.8"
  }
 },
 "nbformat": 4,
 "nbformat_minor": 2
}
