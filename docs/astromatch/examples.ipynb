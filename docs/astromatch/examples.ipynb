{
 "cells": [
  {
   "cell_type": "markdown",
   "metadata": {},
   "source": [
    "Astromatch\n",
    "==========\n",
    "\n",
    "Astromatch is a python module for statistical cross-matching of astronomical catalogues. It implements different matching methods and provides a consistent output format (as far as possible) for all of them. This allows easy comparisons between different methods.\n",
    "\n",
    "Astromatch is design as a coherent framework, well integrated with other tools in the Astropy package. When using Astromatch, you should keep in mind that it is more a library that allows you to write your own python scripts for cross-matching astronomical catalogues, than a simple stand-alone software."
   ]
  },
  {
   "cell_type": "markdown",
   "metadata": {},
   "source": [
    "Catalogue objects\n",
    "---------------------------\n",
    "\n",
    "Astromatch provides a useful tool for defining an astronomical catalogue. The basic information needed for building a ``Catalogue`` object is the position of the sources, the positional errors, their ID labels and the area covered by the catalogue. Having a reasonable estimation of the catalogue area is crucial when using statistical cross-matching methods."
   ]
  },
  {
   "cell_type": "markdown",
   "metadata": {},
   "source": [
    "As en example, lets build an Astromatch Catalogue for X-ray sources in a sky region of 1 deg radius within the XXL-North survey. \n",
    "\n",
    "Lets firs retrieve the data we need from the Vizier database (we will use only the data from the 0.5-2 keV band):"
   ]
  },
  {
   "cell_type": "code",
   "execution_count": null,
   "metadata": {},
   "outputs": [],
   "source": [
    "from astropy import units as u\n",
    "from astropy.coordinates import SkyCoord\n",
    "from astropy.table import Table\n",
    "\n",
    "\n",
    "region_center = SkyCoord(ra=35.30109, dec=-4.45962, unit='deg')\n",
    "search_radius = 1*u.deg\n",
    "\n",
    "try:\n",
    "    xcat_table = Table.read('xxl_1deg.fits')\n",
    "\n",
    "except FileNotFoundError:\n",
    "    from astroquery.vizier import Vizier\n",
    "\n",
    "    v = Vizier(\n",
    "        columns=['Xseq', 'RABdeg', 'DEBdeg', 'e_Bpos'],\n",
    "        column_filters={'e_Bpos':'>0', 'Bp1': '==1'},\n",
    "        row_limit=-1,\n",
    "    )\n",
    "    result = v.query_region(region_center, radius=search_radius, catalog='IX/52/3xlss')\n",
    "    xcat_table = result[0]\n",
    "    xcat_table.meta['description'] = ''\n",
    "    xcat_table.write('xxl_1deg.fits', format='fits', overwrite=True)"
   ]
  },
  {
   "cell_type": "markdown",
   "metadata": {},
   "source": [
    "We use the output of the Vizier query for building the corresponding Astromatch catalogue:"
   ]
  },
  {
   "cell_type": "code",
   "execution_count": null,
   "metadata": {},
   "outputs": [],
   "source": [
    "import numpy as np\n",
    "from astromatch import Catalogue\n",
    "\n",
    "xcat = Catalogue(\n",
    "    xcat_table,\n",
    "    name='xxl',\n",
    "    id_col='Xseq',\n",
    "    coord_cols=['RABdeg', 'DEBdeg'],\n",
    "    poserr_cols=['e_Bpos'],\n",
    "    poserr_type='circle',\n",
    "    area=np.pi * search_radius**2,\n",
    ")\n",
    "xcat"
   ]
  },
  {
   "cell_type": "markdown",
   "metadata": {},
   "source": [
    "Astropy units for coordinates and positional errors of the Catalogue are always defined. If the initial data have no units defined for those columns, Astromatch asigns by default degrees to the coordinates and arcsec for the positional errors. By default it assumes that coordinates are in the ICRS reference frame (equatorial system). Other frames can be used by setting the `frame` parameter while defining the Catalogue (see the Astropy SkyCoord documentation for all suported frames). Internally all coordinates frames are transformed into ICRS."
   ]
  },
  {
   "cell_type": "markdown",
   "metadata": {},
   "source": [
    "Instead of passing an Astropy Table for the definition of the catalogue, a path to a file (in a tabular format suported by Astropy) can be used:"
   ]
  },
  {
   "cell_type": "code",
   "execution_count": null,
   "metadata": {},
   "outputs": [],
   "source": [
    "xcat = Catalogue(\n",
    "    'xxl_1deg.fits',\n",
    "    name='xxl',\n",
    "    id_col='Xseq',\n",
    "    coord_cols=['RABdeg', 'DEBdeg'],\n",
    "    poserr_cols=['e_Bpos'],\n",
    "    poserr_type='circle',\n",
    "    area=np.pi * search_radius**2,\n",
    ")"
   ]
  },
  {
   "cell_type": "markdown",
   "metadata": {},
   "source": [
    "The area of the Catalogue can be set using a MOC object (or the path to a file containing the MOC). The ``mocpy`` package have multiple tools for defining MOCs. For example, for the circular sky region we queried, we can define the following MOC:"
   ]
  },
  {
   "cell_type": "code",
   "execution_count": null,
   "metadata": {},
   "outputs": [],
   "source": [
    "from mocpy import MOC\n",
    "\n",
    "moc_xxl = MOC.from_elliptical_cone(\n",
    "    lon=region_center.ra,\n",
    "    lat=region_center.dec,\n",
    "    a=search_radius,\n",
    "    b=search_radius,\n",
    "    pa=0*u.deg,\n",
    "    max_depth=14\n",
    ")"
   ]
  },
  {
   "cell_type": "markdown",
   "metadata": {},
   "source": [
    "Now we can use the MOC for the Catalogue definition:"
   ]
  },
  {
   "cell_type": "code",
   "execution_count": null,
   "metadata": {},
   "outputs": [],
   "source": [
    "xcat = Catalogue(\n",
    "    'xxl_1deg.fits',\n",
    "    name='xxl',\n",
    "    id_col='Xseq',\n",
    "    coord_cols=['RABdeg', 'DEBdeg'],\n",
    "    poserr_cols=['e_Bpos'],\n",
    "    poserr_type='circle',\n",
    "    area=moc_xxl,\n",
    ")\n",
    "xcat.area"
   ]
  },
  {
   "cell_type": "markdown",
   "metadata": {},
   "source": [
    "We strongly recomend using MOCs for defining the areas covered by Catalogues. When cross-matching catalogues with partial common coverage, Astromatch can use the corresponding MOCs to cross-match only the sources in the common area."
   ]
  },
  {
   "cell_type": "markdown",
   "metadata": {},
   "source": [
    "Catalogues can be access by index and sliced as Python lists:"
   ]
  },
  {
   "cell_type": "code",
   "execution_count": null,
   "metadata": {},
   "outputs": [],
   "source": [
    "xcat[10]\n",
    "xcat[10:20]\n",
    "xcat[[10, 20, 30]]"
   ]
  },
  {
   "cell_type": "markdown",
   "metadata": {},
   "source": [
    "It is also possible to select sources by their ids:"
   ]
  },
  {
   "cell_type": "code",
   "execution_count": null,
   "metadata": {},
   "outputs": [],
   "source": [
    "list_of_ids = ['225336', '225330', '225412']\n",
    "xcat_new = xcat.select_by_id(list_of_ids)\n",
    "xcat_new"
   ]
  },
  {
   "cell_type": "markdown",
   "metadata": {},
   "source": [
    "Sources can also be removed by id from a Catalogue:"
   ]
  },
  {
   "cell_type": "code",
   "execution_count": null,
   "metadata": {},
   "outputs": [],
   "source": [
    "list_of_ids = ['225336', '225330', '225412']\n",
    "xcat_new = xcat.remove_by_id(list_of_ids)\n",
    "xcat_new"
   ]
  },
  {
   "cell_type": "markdown",
   "metadata": {},
   "source": [
    "Two Catalogue objects can be joined in a single Catalogue:"
   ]
  },
  {
   "cell_type": "code",
   "execution_count": null,
   "metadata": {},
   "outputs": [],
   "source": [
    "cat1 = xcat[1:4]\n",
    "cat2 = xcat[10:14]\n",
    "\n",
    "cat1.join(cat2)"
   ]
  },
  {
   "cell_type": "markdown",
   "metadata": {},
   "source": [
    "The different atributes of the Catalogue can be access independently:"
   ]
  },
  {
   "cell_type": "code",
   "execution_count": null,
   "metadata": {},
   "outputs": [],
   "source": [
    "# IDs\n",
    "xcat.ids\n",
    "\n",
    "# Area\n",
    "xcat.area\n",
    "\n",
    "# Coordinates\n",
    "xcat.coords\n",
    "\n",
    "# Positional errors\n",
    "xcat.poserr"
   ]
  },
  {
   "cell_type": "markdown",
   "metadata": {},
   "source": [
    "The positional errors are defined as SkyCoordErr objects. This class allows to manipulate the errors in several ways. For example, adding a systematic error:"
   ]
  },
  {
   "cell_type": "code",
   "execution_count": null,
   "metadata": {},
   "outputs": [],
   "source": [
    "# Save the original positional errors\n",
    "old_poserr = xcat.poserr[:]\n",
    "\n",
    "# Add systematic error to the catalogue\n",
    "xcat.poserr.add_syserr(1.5*u.arcsec)\n",
    "print(xcat)\n",
    "\n",
    "# Recover original errors\n",
    "xcat.poserr = old_poserr"
   ]
  },
  {
   "cell_type": "markdown",
   "metadata": {},
   "source": [
    "Cross-matching: Match\n",
    "----------------------------------\n",
    "\n",
    "The ``Match`` class is the basic tool for cross-matching Catalogues. It can use several matching algorithms, and implements different methods to calculate the statistical properties (completeness, error rate, etc) of the results.\n",
    "\n",
    "As an example, we will cross-match the catalogue of X-ray sources we defined above with a catalogue of optical sources from the SDSS. First, we download the data we need, if it is not already available. We will use the optical magnitudes during the cross-match, so we need to download that too:"
   ]
  },
  {
   "cell_type": "code",
   "execution_count": null,
   "metadata": {},
   "outputs": [],
   "source": [
    "sdss_mags = ['umag', 'gmag', 'rmag', 'imag', 'zmag']\n",
    "\n",
    "try:\n",
    "    ocat_table = Table.read('sdss_1deg.fits')\n",
    "\n",
    "except FileNotFoundError:\n",
    "    from astroquery.vizier import Vizier\n",
    "\n",
    "    sdss_cols = ['objID', 'RA_ICRS', 'DE_ICRS', 'e_RA_ICRS', 'e_DE_ICRS'] + sdss_mags\n",
    "\n",
    "    v = Vizier(columns=sdss_cols,\n",
    "               column_filters={'mode': '=1', 'q_mode': '=+', 'e_RA_ICRS': '>0', 'e_DE_ICRS': '>0'},\n",
    "               row_limit=-1,\n",
    "    )\n",
    "    result = v.query_region(region_center, radius=1*u.deg, catalog='V/147/sdss12')\n",
    "    ocat_table = result[0]\n",
    "    ocat_table.meta['description'] = ''\n",
    "    ocat_table.write('sdss_1deg.fits', format='fits', overwrite=True)"
   ]
  },
  {
   "cell_type": "markdown",
   "metadata": {},
   "source": [
    "Now we can define a new Catalogue. Since the optical sources are from the exact same sky region as the X-ray sources, we can use the MOC we defined above to set the area of the Catalogue. Note also that here we are using a different type for the positional errors:"
   ]
  },
  {
   "cell_type": "code",
   "execution_count": null,
   "metadata": {},
   "outputs": [],
   "source": [
    "ocat = Catalogue(\n",
    "    ocat_table,\n",
    "    name='sdss',\n",
    "    id_col='objID',\n",
    "    coord_cols=['RA_ICRS', 'DE_ICRS'],\n",
    "    poserr_cols=['e_RA_ICRS', 'e_DE_ICRS'],\n",
    "    poserr_type='rcd_dec_ellipse',\n",
    "    area=moc_xxl,\n",
    "    mag_cols=sdss_mags,\n",
    ")"
   ]
  },
  {
   "cell_type": "markdown",
   "metadata": {},
   "source": [
    "We define a match between `xcat` and `ocat`:"
   ]
  },
  {
   "cell_type": "code",
   "execution_count": null,
   "metadata": {},
   "outputs": [],
   "source": [
    "from astromatch import Match\n",
    "\n",
    "xm = Match(xcat, ocat)"
   ]
  },
  {
   "cell_type": "markdown",
   "metadata": {},
   "source": [
    "We calculate the cross-match using the likelihood ratio method:"
   ]
  },
  {
   "cell_type": "code",
   "execution_count": null,
   "metadata": {},
   "outputs": [],
   "source": [
    "match_results_lr = xm.run(method='lr', radius=10.0*u.arcsec)"
   ]
  },
  {
   "cell_type": "markdown",
   "metadata": {},
   "source": [
    "By default all cross-matching methods included in astromatch try to estimate magnitude priors using the information provided within the catalogues."
   ]
  },
  {
   "cell_type": "code",
   "execution_count": null,
   "metadata": {
    "scrolled": true
   },
   "outputs": [],
   "source": [
    "xm.priors.plot('rmag')\n",
    "print(\"Overal identification rate in r band:\", xm.priors.qcap('rmag'))\n"
   ]
  },
  {
   "cell_type": "markdown",
   "metadata": {},
   "source": [
    "Priors can be stored into files for later use:"
   ]
  },
  {
   "cell_type": "code",
   "execution_count": null,
   "metadata": {},
   "outputs": [],
   "source": [
    "prior_table = xm.priors.to_table(include_bkg_priors=True)\n",
    "prior_table.write(\"lrpriors.fits\", format=\"fits\", overwrite=True)\n"
   ]
  },
  {
   "cell_type": "markdown",
   "metadata": {},
   "source": [
    "Full output of the LR algorithm:"
   ]
  },
  {
   "cell_type": "code",
   "execution_count": null,
   "metadata": {},
   "outputs": [],
   "source": [
    "xm.lr"
   ]
  },
  {
   "cell_type": "markdown",
   "metadata": {},
   "source": [
    "All matches within the search radius (10 arcsec):"
   ]
  },
  {
   "cell_type": "code",
   "execution_count": null,
   "metadata": {},
   "outputs": [],
   "source": [
    "all_matches = xm.get_matchs()\n",
    "all_matches"
   ]
  },
  {
   "cell_type": "markdown",
   "metadata": {},
   "source": [
    "List of most likely counterparts:"
   ]
  },
  {
   "cell_type": "code",
   "execution_count": null,
   "metadata": {},
   "outputs": [],
   "source": [
    "primary_matches = xm.get_matchs(match_type='primary')\n",
    "primary_matches"
   ]
  },
  {
   "cell_type": "markdown",
   "metadata": {},
   "source": [
    "List of most likely counterparts, including X-ray sources with no counterparts:"
   ]
  },
  {
   "cell_type": "code",
   "execution_count": null,
   "metadata": {},
   "outputs": [],
   "source": [
    "primary_matches = xm.get_matchs(match_type='primary_all')\n",
    "primary_matches"
   ]
  },
  {
   "cell_type": "markdown",
   "metadata": {},
   "source": [
    "Set as best matches only counterparts with LR above a given threshold:"
   ]
  },
  {
   "cell_type": "code",
   "execution_count": null,
   "metadata": {},
   "outputs": [],
   "source": [
    "xm.set_best_matchs(cutoff=0.5)\n",
    "\n",
    "best_matches = xm.get_matchs(match_type='best')\n",
    "best_matches"
   ]
  },
  {
   "cell_type": "markdown",
   "metadata": {},
   "source": [
    "If no LR threshold is given, the method will try to find the optimum threshold (maximizing the completeness while minimizing the error rate):"
   ]
  },
  {
   "cell_type": "code",
   "execution_count": null,
   "metadata": {},
   "outputs": [],
   "source": [
    "xm.set_best_matchs()\n",
    "\n",
    "best_matches = xm.get_matchs(match_type='best')\n",
    "best_matches"
   ]
  },
  {
   "cell_type": "markdown",
   "metadata": {},
   "source": [
    "DRA, DDEC offsets between matches:"
   ]
  },
  {
   "cell_type": "code",
   "execution_count": null,
   "metadata": {},
   "outputs": [],
   "source": [
    "from matplotlib import pyplot as plt\n",
    "from scipy.stats import norm\n",
    "\n",
    "dra, ddec = xm.offset('xxl', 'sdss', match_type='best')\n",
    "x = np.linspace(-10, 10, num=100)\n",
    "\n",
    "fig = plt.figure(figsize=(13, 5))\n",
    "\n",
    "plt.subplot(121)\n",
    "plt.hist(dra, bins='auto', density=True)\n",
    "plt.plot(x, norm.pdf(x, np.mean(dra), np.std(dra)))\n",
    "plt.xlabel('DRA / arcsec')\n",
    "\n",
    "plt.subplot(122)\n",
    "plt.hist(ddec, bins='auto', density=True)\n",
    "plt.plot(x, norm.pdf(x, np.mean(ddec), np.std(ddec)))\n",
    "plt.xlabel('DDEC / arcsec')\n",
    "\n",
    "plt.show()"
   ]
  },
  {
   "cell_type": "markdown",
   "metadata": {},
   "source": [
    "How to obtain the information in the optical and X-ray catalogues for the primary counterparts:"
   ]
  },
  {
   "cell_type": "code",
   "execution_count": null,
   "metadata": {},
   "outputs": [],
   "source": [
    "ocat_best = ocat.select_by_id(best_matches['SRCID_sdss'])\n",
    "ocat_best"
   ]
  },
  {
   "cell_type": "code",
   "execution_count": null,
   "metadata": {},
   "outputs": [],
   "source": [
    "xcat_best = xcat.select_by_id(best_matches['SRCID_xxl'])\n",
    "xcat_best"
   ]
  },
  {
   "cell_type": "markdown",
   "metadata": {},
   "source": [
    "Join X-ray and optical information of the best matches in a single Astropy Table:"
   ]
  },
  {
   "cell_type": "code",
   "execution_count": null,
   "metadata": {
    "scrolled": false
   },
   "outputs": [],
   "source": [
    "from astropy.table import hstack\n",
    "\n",
    "best_all = hstack(\n",
    "    [xcat_best.save(), ocat_best.save()],  # Catalogues can be converted into Tables using the `save` method\n",
    "    table_names=[xcat_best.name, ocat_best.name],\n",
    "    join_type='exact')\n",
    "best_all"
   ]
  },
  {
   "cell_type": "markdown",
   "metadata": {},
   "source": [
    "There are differents methods to characterize the statistical properties of the cross-match.\n",
    "\n",
    "Using the probabilities estimated by the LR algorithm:"
   ]
  },
  {
   "cell_type": "code",
   "execution_count": null,
   "metadata": {},
   "outputs": [],
   "source": [
    "lr_stats = xm.stats(ncutoff=501, maxcutoff=10.0)\n",
    "\n"
   ]
  },
  {
   "cell_type": "markdown",
   "metadata": {},
   "source": [
    "By cross-matching with a randomized catalogue of X-ray sources:"
   ]
  },
  {
   "cell_type": "code",
   "execution_count": null,
   "metadata": {},
   "outputs": [],
   "source": [
    "lr_stats_rnd = xm.stats(match_rnd=True, ncutoff=501, maxcutoff=10.0)\n"
   ]
  },
  {
   "cell_type": "markdown",
   "metadata": {},
   "source": [
    "By using the randomization method described in Broos et al. 2006:"
   ]
  },
  {
   "cell_type": "code",
   "execution_count": null,
   "metadata": {},
   "outputs": [],
   "source": [
    "lr_stats_broos = xm.stats(use_broos=True, ntest=1, ncutoff=501, maxcutoff=10.0)"
   ]
  },
  {
   "cell_type": "code",
   "execution_count": null,
   "metadata": {},
   "outputs": [],
   "source": [
    "fig = plt.figure(figsize=(13, 5))\n",
    "\n",
    "plt.subplot(121)\n",
    "plt.plot(lr_stats['cutoff'], lr_stats['error_rate'], lw=3)\n",
    "plt.plot(lr_stats_rnd['cutoff'], lr_stats_rnd['error_rate'], lw=3, ls=':')\n",
    "plt.plot(lr_stats_broos['cutoff'], lr_stats_broos['error_rate'], lw=3, ls='--')\n",
    "\n",
    "plt.xlabel('LR')\n",
    "plt.ylabel('error rate')\n",
    "\n",
    "\n",
    "plt.subplot(122)\n",
    "plt.plot(lr_stats['reliability'], lr_stats['completeness'], lw=3)\n",
    "plt.plot(lr_stats_rnd['reliability'], lr_stats_rnd['completeness'], lw=3, ls=':')\n",
    "plt.plot(lr_stats_broos['reliability'], lr_stats_broos['completeness'], lw=3, ls='--')\n",
    "\n",
    "plt.xlabel('purity')\n",
    "plt.ylabel('completeness')\n",
    "\n",
    "plt.tight_layout()\n",
    "plt.show()"
   ]
  },
  {
   "cell_type": "markdown",
   "metadata": {},
   "source": [
    "We repeat the cross-matching of our two catalogues using NWAY:"
   ]
  },
  {
   "cell_type": "code",
   "execution_count": null,
   "metadata": {},
   "outputs": [],
   "source": [
    "match_nway_nomags = xm.run(method='nway', radius=10.0*u.arcsec, prior_completeness=0.55)"
   ]
  },
  {
   "cell_type": "markdown",
   "metadata": {},
   "source": [
    "The match we have just performed does not take into account the optical magnitudes of the SDSS sources. If we want to use that information during the cross-matching, we set the `use_mags` parameter to `True` and astromatch automatically estimates magnitude priors from the photometric data contained in the optical catalogue:"
   ]
  },
  {
   "cell_type": "code",
   "execution_count": null,
   "metadata": {},
   "outputs": [],
   "source": [
    "match_nway_mags_default = xm.run(method='nway', radius=10.0*u.arcsec, use_mags=True, prior_completeness=0.55)"
   ]
  },
  {
   "cell_type": "markdown",
   "metadata": {},
   "source": [
    "By default NWAY uses high likelihood counterparts (matches with high posterior probability estimated using only the positional information) to calculate the magnitude priors. Alternatively, you can build priors using the same method implemented in the LR algorithm:"
   ]
  },
  {
   "cell_type": "code",
   "execution_count": null,
   "metadata": {},
   "outputs": [],
   "source": [
    "match_nway_mags_custom = xm.run(\n",
    "    method='nway', radius=10.0*u.arcsec, prior_completeness=0.55,\n",
    "    use_mags=True,\n",
    "    bayes_prior=False,\n",
    "# Default settings for LR magnitude priors\n",
    "    mag_include_radius=10*u.arcsec,\n",
    "    magmin=10.0,\n",
    "    magmax=30.0,\n",
    "    magbinsize=0.5,\n",
    "    rndcat=True,\n",
    ")"
   ]
  },
  {
   "cell_type": "markdown",
   "metadata": {},
   "source": [
    "Or we can just use the magnitude prior we calculated during the LR match. In this case we need to define a dictionary containing the priors for each secondary catalogue that is included in the match (only the SDSS catalogue in this particular example):"
   ]
  },
  {
   "cell_type": "code",
   "execution_count": null,
   "metadata": {},
   "outputs": [],
   "source": [
    "from astromatch.priors import Prior\n",
    "\n",
    "priors = {'sdss': Prior.from_table(\"lrpriors.fits\", sdss_mags)}\n",
    "\n",
    "match_nway_mags_custom2 = xm.run(\n",
    "    method='nway', radius=10.0*u.arcsec, prior_completeness=0.55, use_mags=True, priors=priors\n",
    ")"
   ]
  },
  {
   "cell_type": "code",
   "execution_count": null,
   "metadata": {},
   "outputs": [],
   "source": [
    "fig = plt.figure(figsize=(4, 5))\n",
    "\n",
    "plt.hist(match_nway_nomags['prob_has_match'], bins='auto')\n",
    "plt.hist(match_nway_mags_default['prob_has_match'], bins='auto', histtype='step', lw=3)\n",
    "plt.hist(match_nway_mags_custom['prob_has_match'], bins='auto', histtype='step', lw=3, ls='--')\n",
    "plt.hist(match_nway_mags_custom2['prob_has_match'], bins='auto', histtype='step', lw=3, ls=':')\n",
    "\n",
    "plt.show()"
   ]
  },
  {
   "cell_type": "markdown",
   "metadata": {},
   "source": [
    "DRA, DDEC offsets between matches for NWAY results:"
   ]
  },
  {
   "cell_type": "code",
   "execution_count": null,
   "metadata": {},
   "outputs": [],
   "source": [
    "from matplotlib import pyplot as plt\n",
    "from scipy.stats import norm\n",
    "\n",
    "xm.set_best_matchs(cutoff=0.8)\n",
    "dra, ddec = xm.offset('xxl', 'sdss', match_type='best')\n",
    "x = np.linspace(-10, 10, num=100)\n",
    "\n",
    "fig = plt.figure(figsize=(13, 5))\n",
    "\n",
    "plt.subplot(121)\n",
    "plt.hist(dra, bins='auto', density=True)\n",
    "plt.plot(x, norm.pdf(x, np.mean(dra), np.std(dra)))\n",
    "plt.xlabel('DRA / arcsec')\n",
    "\n",
    "plt.subplot(122)\n",
    "plt.hist(ddec, bins='auto', density=True)\n",
    "plt.plot(x, norm.pdf(x, np.mean(ddec), np.std(ddec)))\n",
    "plt.xlabel('DDEC / arcsec')\n",
    "\n",
    "plt.show()"
   ]
  },
  {
   "cell_type": "code",
   "execution_count": null,
   "metadata": {},
   "outputs": [],
   "source": [
    "nway_stats = xm.stats(ncutoff=100, maxcutoff=0.99)\n",
    "nway_stats_rnd = xm.stats(match_rnd=True, ncutoff=100, maxcutoff=0.99, prior_completeness=0.55)\n",
    "nway_stats_broos = xm.stats(use_broos=True, ntest=5, ncutoff=100, maxcutoff=0.99, prior_completeness=0.55)"
   ]
  },
  {
   "cell_type": "code",
   "execution_count": null,
   "metadata": {},
   "outputs": [],
   "source": [
    "fig = plt.figure(figsize=(13, 5))\n",
    "\n",
    "plt.subplot(121)\n",
    "plt.plot(nway_stats['cutoff'], nway_stats['error_rate'], lw=3)\n",
    "plt.plot(nway_stats_rnd['cutoff'], nway_stats_rnd['error_rate'], lw=3, ls=':')\n",
    "plt.plot(nway_stats_broos['cutoff'], nway_stats_broos['error_rate'], lw=3, ls='--')\n",
    "\n",
    "plt.xlabel('prob_has_match')\n",
    "plt.ylabel('error rate')\n",
    "\n",
    "\n",
    "plt.subplot(122)\n",
    "plt.plot(nway_stats['reliability'], nway_stats['completeness'], lw=3)\n",
    "plt.plot(nway_stats_rnd['reliability'], nway_stats_rnd['completeness'], lw=3, ls=':')\n",
    "plt.plot(nway_stats_broos['reliability'], nway_stats_broos['completeness'], lw=3, ls='--')\n",
    "\n",
    "plt.xlabel('purity')\n",
    "plt.ylabel('completeness')\n",
    "\n",
    "plt.tight_layout()\n",
    "plt.show()"
   ]
  }
 ],
 "metadata": {
  "kernelspec": {
   "display_name": "Python 3",
   "language": "python",
   "name": "python3"
  },
  "language_info": {
   "codemirror_mode": {
    "name": "ipython",
    "version": 3
   },
   "file_extension": ".py",
   "mimetype": "text/x-python",
   "name": "python",
   "nbconvert_exporter": "python",
   "pygments_lexer": "ipython3",
   "version": "3.6.8"
  }
 },
 "nbformat": 4,
 "nbformat_minor": 2
}
