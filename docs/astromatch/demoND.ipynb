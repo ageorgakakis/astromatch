{
 "cells": [
  {
   "cell_type": "code",
   "execution_count": 1,
   "metadata": {},
   "outputs": [],
   "source": [
    "from astropy import units as u\n",
    "import numpy as np\n",
    "from astromatch import Catalogue\n",
    "from mocpy import MOC\n",
    "from astromatch import Match\n",
    "from astromatch.priorsND import PriorND\n",
    "import sys\n"
   ]
  },
  {
   "cell_type": "markdown",
   "metadata": {},
   "source": [
    "This examples uses a source catalogue from the XMM-ATLAS survey (http://xraygroup.astro.noa.gr/atlas.html). The used catalogue is the result of custom X-ray data analysis and does not correspond to the one provided  in the lnk above The catalogue is uploaded into the astromatch Catalogue class. The corresponding MOC that describes the XMM-ATLAS field of view is also given. "
   ]
  },
  {
   "cell_type": "code",
   "execution_count": 2,
   "metadata": {},
   "outputs": [],
   "source": [
    "mocx = MOC.from_fits(\"DATA/xmmatlas_new.moc\")     \n",
    "xcat_table=\"DATA/xmmatlas_srclistnew_Legacy.fits\"\n",
    "xcat = Catalogue(\n",
    "    xcat_table,\n",
    "    name='xatlas',\n",
    "    id_col='UXID',\n",
    "    coord_cols=['RA_CORR', 'DEC_CORR'],\n",
    "    poserr_cols=['RADEC_TERR'],\n",
    "    poserr_type='circle',\n",
    "    area=mocx,\n",
    ")\n"
   ]
  },
  {
   "cell_type": "markdown",
   "metadata": {},
   "source": [
    "The next steps is to define the optical catalogue and pass intothe astromatch Catalogue class. In this case the Legacy survey (http://legacysurvey.org/) dataset is used. The table columns of the Legacy survey source list that will be read into the Catalogue class need to be defined. These are the columns that will be used for the construction of priors. We therefore define the prios via the mags variable here. The construction of priors also require boundaries and bin sizes to construct the corresponding N-dimensional histograms. There are also defined here. At this stage no prior is contructed by the relevant columns are read in for the calculations later on. "
   ]
  },
  {
   "cell_type": "code",
   "execution_count": 3,
   "metadata": {},
   "outputs": [],
   "source": [
    "moco = MOC.from_fits(\"DATA/legacy.moc\")\n",
    "mags = [['MAG_G', 'MAG_Z'], ['MAG_W1'],['MAG_W2'], ['GAIA_PHOT_G_MEAN_MAG']]\n",
    "magmin = [ [10, 10] ,[10, 10], [10], [10], [5]]\n",
    "magmax = [ [30, 30], [30, 30], [30], [30], [25]]\n",
    "magbinsize = [ [0.25, 0.5], [0.25, 0.5], [0.5], [0.5]]\n",
    "\n",
    "ocat = Catalogue(\n",
    "    \"DATA/Legacy_SLIM.fits\",\n",
    "    name='lgcy',\n",
    "    id_col='UOBJID',\n",
    "    coord_cols=['RA', 'DEC'],\n",
    "    poserr_cols=['RADEC_ERR'],\n",
    "    poserr_type='circle',\n",
    "    area=moco,\n",
    "    mag_cols=mags,\n",
    ")"
   ]
  },
  {
   "cell_type": "markdown",
   "metadata": {},
   "source": [
    "Define the Match object of the two catalogues. \n",
    "\n"
   ]
  },
  {
   "cell_type": "code",
   "execution_count": 4,
   "metadata": {},
   "outputs": [],
   "source": [
    "xm = Match(xcat, ocat)"
   ]
  },
  {
   "cell_type": "markdown",
   "metadata": {},
   "source": [
    "The two catalogue are matched. The priors are also constructed. With the definitions above they consist of one 2-d prior from the  MAG_G and MAG_Z columns in the  DATA/Legacy_SLIM.fits file and three 1-D priors using the columns  'MAG_W1', 'MAG_W2', 'GAIA_PHOT_G_MEAN_MAG' in the same file. The prior is determined using the \"random\" method using a total of 100 random samples. The Likelihood Ratio (lr) method is used to determine the probability of sources being associated. The positional offset probability distribution is described by the Rayleigh distribution with sigma the combined positional uncertainty of the sources in each catalogue.  "
   ]
  },
  {
   "cell_type": "code",
   "execution_count": 5,
   "metadata": {},
   "outputs": [
    {
     "name": "stdout",
     "output_type": "stream",
     "text": [
      "INFO: Using LR method: [astromatch.core]\n",
      "INFO: Searching for match candidates within 7.5 arcsec... [astromatch.lr]\n",
      "INFO: Calculating priors... [astromatch.lr]\n",
      "INFO: Estinating priors from Catalogue using columns [['MAG_G', 'MAG_Z'], ['MAG_W1'], ['MAG_W2'], ['GAIA_PHOT_G_MEAN_MAG']]... [astromatch.priorsND]\n",
      "INFO: Calculating likelihood ratios for match candidates... [astromatch.lr]\n",
      "[0.9531438767546949, 0.988280739854066, 0.9407345573195783, 0.3441023670731921]\n",
      "INFO: Sorting and flagging match results... [astromatch.lr]\n"
     ]
    },
    {
     "name": "stderr",
     "output_type": "stream",
     "text": [
      "/soft9/anaconda3/envs/python3/lib/python3.7/site-packages/astropy/units/quantity.py:477: RuntimeWarning: invalid value encountered in true_divide\n",
      "  result = super().__array_ufunc__(function, method, *arrays, **kwargs)\n",
      "/soft9/anaconda3/envs/python3/lib/python3.7/site-packages/astromatch/lr.py:495: RuntimeWarning: invalid value encountered in true_divide\n",
      "  lr_table['p_any_' + col])\n",
      "/soft9/anaconda3/envs/python3/lib/python3.7/site-packages/astromatch/lr.py:728: RuntimeWarning: invalid value encountered in true_divide\n",
      "  mask_ratio = match['prob_this_match']/pi_max > prob_ratio_secondary\n",
      "/soft9/anaconda3/envs/python3/lib/python3.7/site-packages/astropy/table/column.py:1020: RuntimeWarning: invalid value encountered in greater\n",
      "  result = getattr(super(), op)(other)\n"
     ]
    }
   ],
   "source": [
    "match_results = xm.run(method='lr', radius=7.5*u.arcsec, prior_method='random', \n",
    "                       mags = mags, magmin=magmin, magmax=magmax, \n",
    "                       magbinsize=magbinsize,random_numrepeat=100, \n",
    "                       poserr_dist=\"rayleigh\")"
   ]
  },
  {
   "cell_type": "markdown",
   "metadata": {},
   "source": [
    "it is possible to visualse the prior by saving it into a fits file"
   ]
  },
  {
   "cell_type": "code",
   "execution_count": 6,
   "metadata": {},
   "outputs": [],
   "source": [
    "priors=xm._match.priors\n",
    "t = priors.to_table(include_bkg_priors=False)\n",
    "t.writeto('DATA/prior.fits', overwrite=True)"
   ]
  },
  {
   "cell_type": "markdown",
   "metadata": {},
   "source": [
    "the same for background density of source"
   ]
  },
  {
   "cell_type": "code",
   "execution_count": 7,
   "metadata": {},
   "outputs": [],
   "source": [
    "bkg=xm._match._bkg\n",
    "t = bkg.to_table()\n",
    "t.writeto('DATA/bkg.fits', overwrite=True)"
   ]
  },
  {
   "cell_type": "markdown",
   "metadata": {},
   "source": [
    "Define a ploting function for visualising thre results."
   ]
  },
  {
   "cell_type": "code",
   "execution_count": 8,
   "metadata": {},
   "outputs": [],
   "source": [
    "def plot_stats(stats):\n",
    "        \n",
    "    import matplotlib.pyplot as plt\n",
    "    #from matplotlib.backends.backend_pdf import PdfPages\n",
    "    from matplotlib.ticker import MultipleLocator, FormatStrFormatter\n",
    "    import os\n",
    "    \n",
    "    #plotfile = os.path.join('./stats-{}.pdf'.format(ext))\n",
    "          \n",
    "    fontPanel = {'family': 'serif',\n",
    "                     'color': 'black',\n",
    "                     'weight': 'bold',\n",
    "                     'size': 10,} \n",
    "\n",
    "    figall=[]\n",
    "    pdf = PdfPages(plotfile)\n",
    "    fig, ax = plt.subplots(1,1)\n",
    "    y= stats['completeness']\n",
    "    x= stats['cutoff']\n",
    "    ax.plot(x,y, 'r-', label=\"completeness\")            \n",
    "    y= stats['reliability']\n",
    "    ax.plot(x,y, 'b--', label=\"purity\")            \n",
    "    \n",
    "    for axis in ['top','bottom','left','right']:\n",
    "        for a in [ax]:\n",
    "            a.spines[axis].set_linewidth(2)\n",
    "            a.tick_params(labelsize=12)\n",
    "            a.xaxis.set_tick_params(which='major', width=1.5, size=8)\n",
    "            a.yaxis.set_tick_params(which='major', width=1.5, size=8)\n",
    "            a.xaxis.set_tick_params(which='minor', width=1.5, size=5)\n",
    "            a.yaxis.set_tick_params(which='minor', width=1.5, size=5)\n",
    "         \n",
    "    xmax=3\n",
    "    m= stats['cutoff']<xmax\n",
    "    min1 = np.min(stats['completeness'][m])\n",
    "    min2 = np.min(stats['reliability'][m])\n",
    "    min1 = min(min1,min2)\n",
    "    max1 = np.max(stats['completeness'][m])\n",
    "    max2 = np.max(stats['completeness'][m])\n",
    "    max1 = max(max1,max2)\n",
    "    \n",
    "    ax.set_xlim(0,xmax)\n",
    "    ax.set_ylim(min1*0.95, max1*1.05)\n",
    "    ax.grid()\n",
    "    ax.legend()\n",
    "    plt.show()\n",
    "    #pdf.savefig( fig )\n",
    "    #pdf.close()\n",
    " \n"
   ]
  },
  {
   "cell_type": "code",
   "execution_count": 9,
   "metadata": {},
   "outputs": [
    {
     "name": "stderr",
     "output_type": "stream",
     "text": [
      "/soft9/anaconda3/envs/python3/lib/python3.7/site-packages/astropy/table/column.py:984: UserWarning: Warning: converting a masked element to nan.\n",
      "  self.data[index] = value\n"
     ]
    },
    {
     "ename": "NameError",
     "evalue": "name 'PdfPages' is not defined",
     "output_type": "error",
     "traceback": [
      "\u001b[0;31m---------------------------------------------------------------------------\u001b[0m",
      "\u001b[0;31mNameError\u001b[0m                                 Traceback (most recent call last)",
      "\u001b[0;32m<ipython-input-9-d7ea2465914e>\u001b[0m in \u001b[0;36m<module>\u001b[0;34m\u001b[0m\n\u001b[1;32m      2\u001b[0m \u001b[0mlr_stats\u001b[0m \u001b[0;34m=\u001b[0m \u001b[0mxm\u001b[0m\u001b[0;34m.\u001b[0m\u001b[0mstats\u001b[0m\u001b[0;34m(\u001b[0m\u001b[0mncutoff\u001b[0m\u001b[0;34m=\u001b[0m\u001b[0;36m501\u001b[0m\u001b[0;34m,\u001b[0m \u001b[0mmaxcutoff\u001b[0m\u001b[0;34m=\u001b[0m\u001b[0;36m10.0\u001b[0m\u001b[0;34m)\u001b[0m\u001b[0;34m\u001b[0m\u001b[0;34m\u001b[0m\u001b[0m\n\u001b[1;32m      3\u001b[0m \u001b[0mlr_stats\u001b[0m\u001b[0;34m.\u001b[0m\u001b[0mwrite\u001b[0m\u001b[0;34m(\u001b[0m\u001b[0;34m\"stats.fits\"\u001b[0m\u001b[0;34m,\u001b[0m \u001b[0mformat\u001b[0m\u001b[0;34m=\u001b[0m\u001b[0;34m'fits'\u001b[0m\u001b[0;34m,\u001b[0m \u001b[0moverwrite\u001b[0m\u001b[0;34m=\u001b[0m\u001b[0;32mTrue\u001b[0m\u001b[0;34m)\u001b[0m\u001b[0;34m\u001b[0m\u001b[0;34m\u001b[0m\u001b[0m\n\u001b[0;32m----> 4\u001b[0;31m \u001b[0mplot_stats\u001b[0m\u001b[0;34m(\u001b[0m\u001b[0mstats\u001b[0m\u001b[0;34m=\u001b[0m\u001b[0mlr_stats\u001b[0m\u001b[0;34m)\u001b[0m\u001b[0;34m\u001b[0m\u001b[0;34m\u001b[0m\u001b[0m\n\u001b[0m",
      "\u001b[0;32m<ipython-input-8-121dfbf2301b>\u001b[0m in \u001b[0;36mplot_stats\u001b[0;34m(stats)\u001b[0m\n\u001b[1;32m     14\u001b[0m \u001b[0;34m\u001b[0m\u001b[0m\n\u001b[1;32m     15\u001b[0m     \u001b[0mfigall\u001b[0m\u001b[0;34m=\u001b[0m\u001b[0;34m[\u001b[0m\u001b[0;34m]\u001b[0m\u001b[0;34m\u001b[0m\u001b[0;34m\u001b[0m\u001b[0m\n\u001b[0;32m---> 16\u001b[0;31m     \u001b[0mpdf\u001b[0m \u001b[0;34m=\u001b[0m \u001b[0mPdfPages\u001b[0m\u001b[0;34m(\u001b[0m\u001b[0mplotfile\u001b[0m\u001b[0;34m)\u001b[0m\u001b[0;34m\u001b[0m\u001b[0;34m\u001b[0m\u001b[0m\n\u001b[0m\u001b[1;32m     17\u001b[0m     \u001b[0mfig\u001b[0m\u001b[0;34m,\u001b[0m \u001b[0max\u001b[0m \u001b[0;34m=\u001b[0m \u001b[0mplt\u001b[0m\u001b[0;34m.\u001b[0m\u001b[0msubplots\u001b[0m\u001b[0;34m(\u001b[0m\u001b[0;36m1\u001b[0m\u001b[0;34m,\u001b[0m\u001b[0;36m1\u001b[0m\u001b[0;34m)\u001b[0m\u001b[0;34m\u001b[0m\u001b[0;34m\u001b[0m\u001b[0m\n\u001b[1;32m     18\u001b[0m     \u001b[0my\u001b[0m\u001b[0;34m=\u001b[0m \u001b[0mstats\u001b[0m\u001b[0;34m[\u001b[0m\u001b[0;34m'completeness'\u001b[0m\u001b[0;34m]\u001b[0m\u001b[0;34m\u001b[0m\u001b[0;34m\u001b[0m\u001b[0m\n",
      "\u001b[0;31mNameError\u001b[0m: name 'PdfPages' is not defined"
     ]
    }
   ],
   "source": [
    "xm.set_best_matchs(cutoff=-9.)\n",
    "lr_stats = xm.stats(ncutoff=501, maxcutoff=10.0)\n",
    "lr_stats.write(\"stats.fits\", format='fits', overwrite=True)\n",
    "plot_stats(stats=lr_stats)"
   ]
  },
  {
   "cell_type": "code",
   "execution_count": null,
   "metadata": {},
   "outputs": [],
   "source": []
  }
 ],
 "metadata": {
  "kernelspec": {
   "display_name": "Python 3",
   "language": "python",
   "name": "python3"
  },
  "language_info": {
   "codemirror_mode": {
    "name": "ipython",
    "version": 3
   },
   "file_extension": ".py",
   "mimetype": "text/x-python",
   "name": "python",
   "nbconvert_exporter": "python",
   "pygments_lexer": "ipython3",
   "version": "3.7.2"
  }
 },
 "nbformat": 4,
 "nbformat_minor": 2
}
